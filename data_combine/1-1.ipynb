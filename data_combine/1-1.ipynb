{
 "cells": [
  {
   "cell_type": "code",
   "id": "initial_id",
   "metadata": {
    "collapsed": true,
    "ExecuteTime": {
     "end_time": "2024-08-30T14:56:22.455374Z",
     "start_time": "2024-08-30T14:56:21.757383Z"
    }
   },
   "source": [
    "import pandas as pd\n",
    "import dask.dataframe as ddf\n",
    "import numpy as np"
   ],
   "outputs": [],
   "execution_count": 1
  },
  {
   "metadata": {
    "ExecuteTime": {
     "end_time": "2024-08-30T14:56:23.106122Z",
     "start_time": "2024-08-30T14:56:22.456279Z"
    }
   },
   "cell_type": "code",
   "source": [
    "c = ddf.read_csv('/Volumes/Expansion/traffic-prediction/data/its-소통/1/its_c_1_1_m1.csv', dtype={'링크ID':'object'})\n",
    "e = ddf.read_csv('/Volumes/Expansion/traffic-prediction/data/its-돌발/1/its_e_1_1_m1.csv', dtype='object')\n",
    "w = ddf.read_csv('/Volumes/Expansion/traffic-prediction/data/기상청-방재/weather_1_m1.csv')\n",
    "r = ddf.read_csv('/Volumes/Expansion/traffic-prediction/data/도로 데이터/road(info)_m1.csv')\n",
    "area = ddf.read_csv(\n",
    "    '/Volumes/Expansion/traffic-prediction/data/전국교통사고다발지역표준데이터/전국교통사고다발지역표준데이터.csv')\n",
    "cam = ddf.read_csv(\n",
    "    '/Volumes/Expansion/traffic-prediction/data/전국무인교통단속카메라표준데이터/전국무인교통단속카메라표준데이터_m1.csv')\n",
    "node = ddf.read_csv('/Volumes/Expansion/traffic-prediction/data/표준노드링크/data/node_m1.csv')\n",
    "link = ddf.read_csv('/Volumes/Expansion/traffic-prediction/data/표준노드링크/data/link_m1.csv')\n",
    "men = ddf.read_csv(\n",
    "    '/Volumes/Expansion/traffic-prediction/data/행정안전부_지역별(행정동) 성별 연령별 주민등록 인구수/행정안전부_지역별(행정동) 성별 연령별 주민등록 인구수_20240731.csv')\n",
    "con = ddf.read_csv('/Volumes/Expansion/traffic-prediction/data/혼잡빈도/confusion_1_m1.csv')"
   ],
   "id": "73ead9f1b872beba",
   "outputs": [],
   "execution_count": 2
  },
  {
   "metadata": {
    "ExecuteTime": {
     "end_time": "2024-08-30T14:56:23.109061Z",
     "start_time": "2024-08-30T14:56:23.106824Z"
    }
   },
   "cell_type": "code",
   "source": "e = e.drop(['관리기관', 'X', 'Y', '돌발종료일시'], axis=1)",
   "id": "3cb459fcdcbfa9a9",
   "outputs": [],
   "execution_count": 3
  },
  {
   "metadata": {
    "ExecuteTime": {
     "end_time": "2024-08-30T14:56:23.111309Z",
     "start_time": "2024-08-30T14:56:23.109674Z"
    }
   },
   "cell_type": "code",
   "source": "w = w.drop(['지점명'], axis=1)",
   "id": "93c928ab9c7a1f22",
   "outputs": [],
   "execution_count": 4
  },
  {
   "metadata": {
    "ExecuteTime": {
     "end_time": "2024-08-30T14:56:23.114393Z",
     "start_time": "2024-08-30T14:56:23.112591Z"
    }
   },
   "cell_type": "code",
   "source": [
    "area = area.drop(['사고지역관리번호', '사고연도', '위치코드', '사고다발지역시도시군구', '사고지역위치명', '사망자수', '중상자수', '경상자수', '사고다발지역폴리곤정보',\n",
    "       '데이터기준일자', '제공기관코드', '제공기관명'], axis=1)"
   ],
   "id": "950e47f09ebaf886",
   "outputs": [],
   "execution_count": 5
  },
  {
   "metadata": {
    "ExecuteTime": {
     "end_time": "2024-08-30T14:56:23.116565Z",
     "start_time": "2024-08-30T14:56:23.114906Z"
    }
   },
   "cell_type": "code",
   "source": "cam = cam.drop(['무인교통단속카메라관리번호', '시도명', '시군구명', '소재지지번주소', '관리기관명', '관리기관전화번호', '데이터기준일자', '제공기관코드', '제공기관명'], axis=1)",
   "id": "8086f176dacc0f3f",
   "outputs": [],
   "execution_count": 6
  },
  {
   "metadata": {
    "ExecuteTime": {
     "end_time": "2024-08-30T14:56:23.118452Z",
     "start_time": "2024-08-30T14:56:23.116984Z"
    }
   },
   "cell_type": "code",
   "source": "node = node.drop(['NODE_NAME', 'UPDATEDATE'], axis=1)",
   "id": "aea6a660d9981dd",
   "outputs": [],
   "execution_count": 7
  },
  {
   "metadata": {
    "ExecuteTime": {
     "end_time": "2024-08-30T14:56:23.120668Z",
     "start_time": "2024-08-30T14:56:23.118998Z"
    }
   },
   "cell_type": "code",
   "source": "link = link.drop(['ROAD_NAME', 'REST_VEH', 'REST_W', 'REST_H', 'C-ITS', 'UPDATEDATE', 'geometry'], axis=1)",
   "id": "753f4520620ce2b4",
   "outputs": [],
   "execution_count": 8
  },
  {
   "metadata": {
    "ExecuteTime": {
     "end_time": "2024-08-30T14:56:23.125941Z",
     "start_time": "2024-08-30T14:56:23.121330Z"
    }
   },
   "cell_type": "code",
   "source": [
    "men = men.drop(['행정기관코드',\n",
    "                      '기준연월',\n",
    "                      '0세남자',\n",
    "                      '1세남자',\n",
    "                      '2세남자',\n",
    "                      '3세남자',\n",
    "                      '4세남자',\n",
    "                      '5세남자',\n",
    "                      '6세남자',\n",
    "                      '7세남자',\n",
    "                      '8세남자',\n",
    "                      '9세남자',\n",
    "                      '10세남자',\n",
    "                      '11세남자',\n",
    "                      '12세남자',\n",
    "                      '13세남자',\n",
    "                      '14세남자',\n",
    "                      '15세남자',\n",
    "                      '16세남자',\n",
    "                      '17세남자',\n",
    "                      '18세남자',\n",
    "                      '19세남자',\n",
    "                      '20세남자',\n",
    "                      '21세남자',\n",
    "                      '22세남자',\n",
    "                      '23세남자',\n",
    "                      '24세남자',\n",
    "                      '25세남자',\n",
    "                      '26세남자',\n",
    "                      '27세남자',\n",
    "                      '28세남자',\n",
    "                      '29세남자',\n",
    "                      '30세남자',\n",
    "                      '31세남자',\n",
    "                      '32세남자',\n",
    "                      '33세남자',\n",
    "                      '34세남자',\n",
    "                      '35세남자',\n",
    "                      '36세남자',\n",
    "                      '37세남자',\n",
    "                      '38세남자',\n",
    "                      '39세남자',\n",
    "                      '40세남자',\n",
    "                      '41세남자',\n",
    "                      '42세남자',\n",
    "                      '43세남자',\n",
    "                      '44세남자',\n",
    "                      '45세남자',\n",
    "                      '46세남자',\n",
    "                      '47세남자',\n",
    "                      '48세남자',\n",
    "                      '49세남자',\n",
    "                      '50세남자',\n",
    "                      '51세남자',\n",
    "                      '52세남자',\n",
    "                      '53세남자',\n",
    "                      '54세남자',\n",
    "                      '55세남자',\n",
    "                      '56세남자',\n",
    "                      '57세남자',\n",
    "                      '58세남자',\n",
    "                      '59세남자',\n",
    "                      '60세남자',\n",
    "                      '61세남자',\n",
    "                      '62세남자',\n",
    "                      '63세남자',\n",
    "                      '64세남자',\n",
    "                      '65세남자',\n",
    "                      '66세남자',\n",
    "                      '67세남자',\n",
    "                      '68세남자',\n",
    "                      '69세남자',\n",
    "                      '70세남자',\n",
    "                      '71세남자',\n",
    "                      '72세남자',\n",
    "                      '73세남자',\n",
    "                      '74세남자',\n",
    "                      '75세남자',\n",
    "                      '76세남자',\n",
    "                      '77세남자',\n",
    "                      '78세남자',\n",
    "                      '79세남자',\n",
    "                      '80세남자',\n",
    "                      '81세남자',\n",
    "                      '82세남자',\n",
    "                      '83세남자',\n",
    "                      '84세남자',\n",
    "                      '85세남자',\n",
    "                      '86세남자',\n",
    "                      '87세남자',\n",
    "                      '88세남자',\n",
    "                      '89세남자',\n",
    "                      '90세남자',\n",
    "                      '91세남자',\n",
    "                      '92세남자',\n",
    "                      '93세남자',\n",
    "                      '94세남자',\n",
    "                      '95세남자',\n",
    "                      '96세남자',\n",
    "                      '97세남자',\n",
    "                      '98세남자',\n",
    "                      '99세남자',\n",
    "                      '100세남자',\n",
    "                      '101세남자',\n",
    "                      '102세남자',\n",
    "                      '103세남자',\n",
    "                      '104세남자',\n",
    "                      '105세남자',\n",
    "                      '106세남자',\n",
    "                      '107세남자',\n",
    "                      '108세남자',\n",
    "                      '109세남자',\n",
    "                      '110세이상 남자',\n",
    "                      '0세여자',\n",
    "                      '1세여자',\n",
    "                      '2세여자',\n",
    "                      '3세여자',\n",
    "                      '4세여자',\n",
    "                      '5세여자',\n",
    "                      '6세여자',\n",
    "                      '7세여자',\n",
    "                      '8세여자',\n",
    "                      '9세여자',\n",
    "                      '10세여자',\n",
    "                      '11세여자',\n",
    "                      '12세여자',\n",
    "                      '13세여자',\n",
    "                      '14세여자',\n",
    "                      '15세여자',\n",
    "                      '16세여자',\n",
    "                      '17세여자',\n",
    "                      '18세여자',\n",
    "                      '19세여자',\n",
    "                      '20세여자',\n",
    "                      '21세여자',\n",
    "                      '22세여자',\n",
    "                      '23세여자',\n",
    "                      '24세여자',\n",
    "                      '25세여자',\n",
    "                      '26세여자',\n",
    "                      '27세여자',\n",
    "                      '28세여자',\n",
    "                      '29세여자',\n",
    "                      '30세여자',\n",
    "                      '31세여자',\n",
    "                      '32세여자',\n",
    "                      '33세여자',\n",
    "                      '34세여자',\n",
    "                      '35세여자',\n",
    "                      '36세여자',\n",
    "                      '37세여자',\n",
    "                      '38세여자',\n",
    "                      '39세여자',\n",
    "                      '40세여자',\n",
    "                      '41세여자',\n",
    "                      '42세여자',\n",
    "                      '43세여자',\n",
    "                      '44세여자',\n",
    "                      '45세여자',\n",
    "                      '46세여자',\n",
    "                      '47세여자',\n",
    "                      '48세여자',\n",
    "                      '49세여자',\n",
    "                      '50세여자',\n",
    "                      '51세여자',\n",
    "                      '52세여자',\n",
    "                      '53세여자',\n",
    "                      '54세여자',\n",
    "                      '55세여자',\n",
    "                      '56세여자',\n",
    "                      '57세여자',\n",
    "                      '58세여자',\n",
    "                      '59세여자',\n",
    "                      '60세여자',\n",
    "                      '61세여자',\n",
    "                      '62세여자',\n",
    "                      '63세여자',\n",
    "                      '64세여자',\n",
    "                      '65세여자',\n",
    "                      '66세여자',\n",
    "                      '67세여자',\n",
    "                      '68세여자',\n",
    "                      '69세여자',\n",
    "                      '70세여자',\n",
    "                      '71세여자',\n",
    "                      '72세여자',\n",
    "                      '73세여자',\n",
    "                      '74세여자',\n",
    "                      '75세여자',\n",
    "                      '76세여자',\n",
    "                      '77세여자',\n",
    "                      '78세여자',\n",
    "                      '79세여자',\n",
    "                      '80세여자',\n",
    "                      '81세여자',\n",
    "                      '82세여자',\n",
    "                      '83세여자',\n",
    "                      '84세여자',\n",
    "                      '85세여자',\n",
    "                      '86세여자',\n",
    "                      '87세여자',\n",
    "                      '88세여자',\n",
    "                      '89세여자',\n",
    "                      '90세여자',\n",
    "                      '91세여자',\n",
    "                      '92세여자',\n",
    "                      '93세여자',\n",
    "                      '94세여자',\n",
    "                      '95세여자',\n",
    "                      '96세여자',\n",
    "                      '97세여자',\n",
    "                      '98세여자',\n",
    "                      '99세여자',\n",
    "                      '100세여자',\n",
    "                      '101세여자',\n",
    "                      '102세여자',\n",
    "                      '103세여자',\n",
    "                      '104세여자',\n",
    "                      '105세여자',\n",
    "                      '106세여자',\n",
    "                      '107세여자',\n",
    "                      '108세여자',\n",
    "                      '109세여자',\n",
    "                      '110세이상 여자'], axis=1)"
   ],
   "id": "1fb020d5ce0413de",
   "outputs": [],
   "execution_count": 9
  },
  {
   "metadata": {
    "ExecuteTime": {
     "end_time": "2024-08-30T14:56:23.128263Z",
     "start_time": "2024-08-30T14:56:23.126540Z"
    }
   },
   "cell_type": "code",
   "source": "con = con.drop(['VDS_ID', '기점종점방향구분코드'], axis=1)",
   "id": "d9a3b6ff94d73a8a",
   "outputs": [],
   "execution_count": 10
  },
  {
   "metadata": {
    "ExecuteTime": {
     "end_time": "2024-08-30T14:56:23.133540Z",
     "start_time": "2024-08-30T14:56:23.128700Z"
    }
   },
   "cell_type": "code",
   "source": [
    "spot = pd.read_csv('/Volumes/Expansion/traffic-prediction/data/other/META_관측지점정보_20240825213356.csv')\n",
    "def get_big_date(v):\n",
    "    a = str(v)\n",
    "    return a[:4] + '-' + a[4:6] + '-' + a[6:8]\n",
    "\n",
    "def get_time(v):\n",
    "    a = str(v).rjust(4, '0')\n",
    "    return a[:2] + ':' + a[2:]\n",
    "\n",
    "def remove_s(v):\n",
    "    a = str(v)\n",
    "    return a[:-2] + '00'\n",
    "\n",
    "def custom_round(a):\n",
    "    s = str(a)\n",
    "    number = int(s[14:16])\n",
    "\n",
    "    if number >= 53:\n",
    "            return s\n",
    "    else:\n",
    "        remainder = number % 10  # 1의 자리 숫자를 얻기 위해 10으로 나눈 나머지로 한다.\n",
    "    result = 0\n",
    "    if remainder in [0, 1, 2]:\n",
    "        result = number - remainder  # 0, 1, 2는 0으로 반올림\n",
    "    elif remainder in [3, 4, 5, 6, 7]:\n",
    "        result = number - remainder + 5  # 3, 4, 5, 6, 7은 5로 반올림\n",
    "    else:\n",
    "        result = number - remainder + 10  # 8, 9는 0으로 반올림\n",
    "\n",
    "    return s[:14] + str(result) + s[16:]\n",
    "\n",
    "\n",
    "def get_distance(a, b):\n",
    "    #유클라디안 거리 계산기\n",
    "    sq = (a['위도'] - b['위도']) ** 2 + (a['경도'] - b['경도']) ** 2\n",
    "    return np.sqrt(sq)\n",
    "\n",
    "def return_lat(a):\n",
    "    return round(float(a.split()[2][:-1]), 4)\n",
    "\n",
    "def return_long(a):\n",
    "    return round(float(a.split()[1][1:]), 4)\n",
    "\n",
    "def get_spot(a, b):\n",
    "    b['거리'] = b.apply(get_distance, args=(a,), axis=1)\n",
    "    m_d = max(b['거리'])\n",
    "    return b['지점'][b['거리'] == m_d].iloc[0]\n",
    "\n",
    "\n",
    "\n",
    "def get_nearest_spot(to_get_data):\n",
    "    spot_list = spot['지점']\n",
    "    to_get_data['위도'] = to_get_data['geometry'].apply(return_lat)\n",
    "    to_get_data['경도'] = to_get_data['geometry'].apply(return_long)\n",
    "    to_get_data = to_get_data.drop(['geometry'], axis=1)\n",
    "    to_get_data['지점'] = to_get_data.apply(get_spot, args=(spot_list, ), axis=1)\n",
    "\n",
    "    return to_get_data"
   ],
   "id": "c9c04a591f34be2e",
   "outputs": [],
   "execution_count": 11
  },
  {
   "metadata": {
    "jupyter": {
     "is_executing": true
    },
    "ExecuteTime": {
     "start_time": "2024-08-30T14:56:23.134002Z"
    }
   },
   "cell_type": "code",
   "source": [
    "c['date'] = ddf.to_datetime(c['생성일'].apply(get_big_date) + ' ' + c['생성시분'].apply(get_time))\n",
    "c = c[pd.Index([c.columns[-1]]).append(c.columns[:-1])]\n",
    "c = c.rename(columns={'링크ID':'LINK_ID'})\n",
    "c = c.compute()\n",
    "c = c.astype({'LINK_ID':'str'})"
   ],
   "id": "605adefa26ef5623",
   "outputs": [
    {
     "name": "stderr",
     "output_type": "stream",
     "text": [
      "/opt/anaconda3/lib/python3.12/site-packages/dask_expr/_collection.py:4341: UserWarning: \n",
      "You did not provide metadata, so Dask is running your function on a small dataset to guess output types. It is possible that Dask will guess incorrectly.\n",
      "To provide an explicit output types or to silence this message, please provide the `meta=` keyword, as described in the map or apply function that you are using.\n",
      "  Before: .apply(func)\n",
      "  After:  .apply(func, meta=('생성일', 'object'))\n",
      "\n",
      "  warnings.warn(meta_warning(meta))\n",
      "/opt/anaconda3/lib/python3.12/site-packages/dask_expr/_collection.py:4341: UserWarning: \n",
      "You did not provide metadata, so Dask is running your function on a small dataset to guess output types. It is possible that Dask will guess incorrectly.\n",
      "To provide an explicit output types or to silence this message, please provide the `meta=` keyword, as described in the map or apply function that you are using.\n",
      "  Before: .apply(func)\n",
      "  After:  .apply(func, meta=('생성시분', 'object'))\n",
      "\n",
      "  warnings.warn(meta_warning(meta))\n"
     ]
    }
   ],
   "execution_count": null
  },
  {
   "metadata": {
    "jupyter": {
     "is_executing": true
    }
   },
   "cell_type": "code",
   "source": [
    "e = e.rename(columns={'링크아이디':'LINK_ID'})\n",
    "e = e.astype({'LINK_ID':'str'})"
   ],
   "id": "91c4db53960f6f1f",
   "outputs": [],
   "execution_count": null
  },
  {
   "metadata": {
    "jupyter": {
     "is_executing": true
    }
   },
   "cell_type": "code",
   "source": [
    "e = e.compute()\n",
    "e['date'] = ddf.to_datetime(e['돌발일시'].apply(remove_s))\n",
    "e = e[ddf.Index([e.columns[-1]]).append(e.columns[:-1])]\n",
    "e['date'] = ddf.to_datetime(e['date'].apply(custom_round))"
   ],
   "id": "1dfe15775f13d1f5",
   "outputs": [],
   "execution_count": null
  },
  {
   "metadata": {
    "jupyter": {
     "is_executing": true
    }
   },
   "cell_type": "code",
   "source": [
    "link = link.astype({'LINK_ID':'str', 'F_NODE':'str'})\n",
    "link = link.rename(columns={'F_NODE':'NODE_ID'})"
   ],
   "id": "a87d412a2021779c",
   "outputs": [],
   "execution_count": null
  },
  {
   "metadata": {
    "jupyter": {
     "is_executing": true
    }
   },
   "cell_type": "code",
   "source": "node = node.astype({'NODE_ID':'str'})",
   "id": "6ea614777dbaf4c8",
   "outputs": [],
   "execution_count": null
  },
  {
   "metadata": {
    "jupyter": {
     "is_executing": true
    }
   },
   "cell_type": "code",
   "source": "weather_spot = ddf.merge(w, spot, on='지점', how='inner')",
   "id": "944c5fc616adfec0",
   "outputs": [],
   "execution_count": null
  },
  {
   "metadata": {
    "jupyter": {
     "is_executing": true
    }
   },
   "cell_type": "code",
   "source": "each_combine = ddf.merge(c, e, on=['date', 'LINK_ID'], how='left')",
   "id": "4e3f239aebb8aa83",
   "outputs": [],
   "execution_count": null
  },
  {
   "metadata": {
    "jupyter": {
     "is_executing": true
    }
   },
   "cell_type": "code",
   "source": "",
   "id": "5e33d8822dabb29a",
   "outputs": [],
   "execution_count": null
  }
 ],
 "metadata": {
  "kernelspec": {
   "display_name": "Python 3",
   "language": "python",
   "name": "python3"
  },
  "language_info": {
   "codemirror_mode": {
    "name": "ipython",
    "version": 2
   },
   "file_extension": ".py",
   "mimetype": "text/x-python",
   "name": "python",
   "nbconvert_exporter": "python",
   "pygments_lexer": "ipython2",
   "version": "2.7.6"
  }
 },
 "nbformat": 4,
 "nbformat_minor": 5
}
