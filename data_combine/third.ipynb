{
 "cells": [
  {
   "cell_type": "code",
   "id": "initial_id",
   "metadata": {
    "collapsed": true,
    "ExecuteTime": {
     "end_time": "2024-08-27T13:08:18.820374Z",
     "start_time": "2024-08-27T13:08:18.104Z"
    }
   },
   "source": [
    "import numpy as np\n",
    "import pandas as pd\n",
    "import dask.dataframe as ddf"
   ],
   "outputs": [],
   "execution_count": 4
  },
  {
   "metadata": {
    "ExecuteTime": {
     "end_time": "2024-08-27T14:34:22.960482Z",
     "start_time": "2024-08-27T14:34:22.957551Z"
    }
   },
   "cell_type": "code",
   "source": [
    "c = ddf.read_csv('/Volumes/Expansion/traffic-prediction/data/its-소통/1/its_c_1_1_m1.csv', dtype={'링크ID':'object'})\n",
    "e = ddf.read_csv('/Volumes/Expansion/traffic-prediction/data/its-돌발/1/its_e_1_1_m1.csv', dtype={'링크아이디':'object'})\n",
    "w = ddf.read_csv('/Volumes/Expansion/traffic-prediction/data/기상청-방재/weather_1_m1.csv')\n",
    "r = ddf.read_csv('/Volumes/Expansion/traffic-prediction/data/도로 데이터/road(info)_m1.csv')\n",
    "area = ddf.read_csv(\n",
    "    '/Volumes/Expansion/traffic-prediction/data/전국교통사고다발지역표준데이터/전국교통사고다발지역표준데이터.csv')\n",
    "cam = ddf.read_csv(\n",
    "    '/Volumes/Expansion/traffic-prediction/data/전국무인교통단속카메라표준데이터/전국무인교통단속카메라표준데이터_m1.csv')\n",
    "node = ddf.read_csv('/Volumes/Expansion/traffic-prediction/data/표준노드링크/data/node_m1.csv')\n",
    "link = ddf.read_csv('/Volumes/Expansion/traffic-prediction/data/표준노드링크/data/link_m1.csv')\n",
    "men = ddf.read_csv(\n",
    "    '/Volumes/Expansion/traffic-prediction/data/행정안전부_지역별(행정동) 성별 연령별 주민등록 인구수/행정안전부_지역별(행정동) 성별 연령별 주민등록 인구수_20240731.csv')\n",
    "con = ddf.read_csv('/Volumes/Expansion/traffic-prediction/data/혼잡빈도/confusion_1_m1.csv')"
   ],
   "id": "9993cd0e40a7f2f5",
   "outputs": [],
   "execution_count": 13
  },
  {
   "metadata": {
    "ExecuteTime": {
     "end_time": "2024-08-27T13:08:19.722733Z",
     "start_time": "2024-08-27T13:08:19.719891Z"
    }
   },
   "cell_type": "code",
   "source": [
    "# 데이터 병합 순선\n",
    "# 1. 소통 데이터 데이트 컬럼 생성\n",
    "# 2. 돌발 데이터 데이트 컬럼 생성(반올림 함수)\n",
    "# 3. 둘 결합\n",
    "# 4. 링크 데이터 링크 아이디 개명 후(영어로 통일) 결합(위도 경도는 중점으로.)\n",
    "# 5. 노드 아이디도 결합\n",
    "# 6. 날씨 데이터와 날씨 지점 데이터 결합\n",
    "# 7. 기존 결합데이터에서 가장 유클리디안 거리로 가까운 지점명 컬럼 생성\n",
    "# 8. 결합 날씨 데이터와 결합\n",
    "# 9. 혼잡빈도 데이터 결합\n",
    "# 10. 그외 잡 변수 결합\n",
    "# 11. 링크 별로 그룹화, 중복 제거 후 배치로 내보내기"
   ],
   "id": "80788417cd5a1afd",
   "outputs": [],
   "execution_count": 6
  },
  {
   "metadata": {
    "ExecuteTime": {
     "end_time": "2024-08-27T13:08:20.313048Z",
     "start_time": "2024-08-27T13:08:20.309987Z"
    }
   },
   "cell_type": "code",
   "source": [
    "    def get_big_date(v):\n",
    "        a = str(v)\n",
    "        return a[:4] + '-' + a[4:6] + '-' + a[6:8]\n",
    "\n",
    "    def get_time(v):\n",
    "        a = str(v).rjust(4, '0')\n",
    "        return a[:2] + ':' + a[2:]\n",
    "\n",
    "    def remove_s(v):\n",
    "        a = str(v)\n",
    "        return a[:-2] + '00'\n",
    "\n",
    "    def custom_round(a):\n",
    "        s = str(a)\n",
    "        number = int(s[14:16])\n",
    "\n",
    "        if number >= 53:\n",
    "            return s\n",
    "        else:\n",
    "            remainder = number % 10  # 1의 자리 숫자를 얻기 위해 10으로 나눈 나머지로 한다.\n",
    "        result = 0\n",
    "        if remainder in [0, 1, 2]:\n",
    "            result = number - remainder  # 0, 1, 2는 0으로 반올림\n",
    "        elif remainder in [3, 4, 5, 6, 7]:\n",
    "            result = number - remainder + 5  # 3, 4, 5, 6, 7은 5로 반올림\n",
    "        else:\n",
    "            result = number - remainder + 10  # 8, 9는 0으로 반올림\n",
    "\n",
    "        return s[:14] + str(result) + s[16:]"
   ],
   "id": "c04c647752038b4e",
   "outputs": [],
   "execution_count": 7
  },
  {
   "metadata": {
    "ExecuteTime": {
     "end_time": "2024-08-27T13:08:58.865969Z",
     "start_time": "2024-08-27T13:08:21.443684Z"
    }
   },
   "cell_type": "code",
   "source": [
    "c_data = c.compute()\n",
    "\n",
    "# 컬럼 이름 변경\n",
    "c_data = c_data.rename(columns={'링크ID':'LINK_ID'})\n",
    "c_data = c_data.astype({'LINK_ID':'str'})"
   ],
   "id": "f0d97a21c1a353a",
   "outputs": [],
   "execution_count": 8
  },
  {
   "metadata": {
    "ExecuteTime": {
     "end_time": "2024-08-27T13:11:56.348777Z",
     "start_time": "2024-08-27T13:10:25.151118Z"
    }
   },
   "cell_type": "code",
   "source": [
    "c_data['date'] = pd.to_datetime(c_data['생성일'].apply(get_big_date) + ' ' + c_data['생성시분'].apply(get_time))\n",
    "c_data = c_data[pd.Index([c_data.columns[-1]]).append(c_data.columns[:-1])]"
   ],
   "id": "2421c6ede15130c4",
   "outputs": [],
   "execution_count": 9
  },
  {
   "metadata": {
    "ExecuteTime": {
     "end_time": "2024-08-27T13:15:58.411189Z",
     "start_time": "2024-08-27T13:15:58.406843Z"
    }
   },
   "cell_type": "code",
   "source": "c_data.tail()",
   "id": "c168578334c226f0",
   "outputs": [
    {
     "data": {
      "text/plain": [
       "                       date       생성일  생성시분     LINK_ID   통행속도  통행시간\n",
       "2025573 2023-01-01 23:55:00  20230101  2355  4180383901    4.0     0\n",
       "2025574 2023-01-01 23:55:00  20230101  2355  4180384001   97.0     0\n",
       "2025575 2023-01-01 23:55:00  20230101  2355  4180384101   76.0     0\n",
       "2025576 2023-01-01 23:55:00  20230101  2355  4180384201  115.0     0\n",
       "2025577 2023-01-01 23:55:00  20230101  2355  4180384301   79.0     0"
      ],
      "text/html": [
       "<div>\n",
       "<style scoped>\n",
       "    .dataframe tbody tr th:only-of-type {\n",
       "        vertical-align: middle;\n",
       "    }\n",
       "\n",
       "    .dataframe tbody tr th {\n",
       "        vertical-align: top;\n",
       "    }\n",
       "\n",
       "    .dataframe thead th {\n",
       "        text-align: right;\n",
       "    }\n",
       "</style>\n",
       "<table border=\"1\" class=\"dataframe\">\n",
       "  <thead>\n",
       "    <tr style=\"text-align: right;\">\n",
       "      <th></th>\n",
       "      <th>date</th>\n",
       "      <th>생성일</th>\n",
       "      <th>생성시분</th>\n",
       "      <th>LINK_ID</th>\n",
       "      <th>통행속도</th>\n",
       "      <th>통행시간</th>\n",
       "    </tr>\n",
       "  </thead>\n",
       "  <tbody>\n",
       "    <tr>\n",
       "      <th>2025573</th>\n",
       "      <td>2023-01-01 23:55:00</td>\n",
       "      <td>20230101</td>\n",
       "      <td>2355</td>\n",
       "      <td>4180383901</td>\n",
       "      <td>4.0</td>\n",
       "      <td>0</td>\n",
       "    </tr>\n",
       "    <tr>\n",
       "      <th>2025574</th>\n",
       "      <td>2023-01-01 23:55:00</td>\n",
       "      <td>20230101</td>\n",
       "      <td>2355</td>\n",
       "      <td>4180384001</td>\n",
       "      <td>97.0</td>\n",
       "      <td>0</td>\n",
       "    </tr>\n",
       "    <tr>\n",
       "      <th>2025575</th>\n",
       "      <td>2023-01-01 23:55:00</td>\n",
       "      <td>20230101</td>\n",
       "      <td>2355</td>\n",
       "      <td>4180384101</td>\n",
       "      <td>76.0</td>\n",
       "      <td>0</td>\n",
       "    </tr>\n",
       "    <tr>\n",
       "      <th>2025576</th>\n",
       "      <td>2023-01-01 23:55:00</td>\n",
       "      <td>20230101</td>\n",
       "      <td>2355</td>\n",
       "      <td>4180384201</td>\n",
       "      <td>115.0</td>\n",
       "      <td>0</td>\n",
       "    </tr>\n",
       "    <tr>\n",
       "      <th>2025577</th>\n",
       "      <td>2023-01-01 23:55:00</td>\n",
       "      <td>20230101</td>\n",
       "      <td>2355</td>\n",
       "      <td>4180384301</td>\n",
       "      <td>79.0</td>\n",
       "      <td>0</td>\n",
       "    </tr>\n",
       "  </tbody>\n",
       "</table>\n",
       "</div>"
      ]
     },
     "execution_count": 12,
     "metadata": {},
     "output_type": "execute_result"
    }
   ],
   "execution_count": 12
  },
  {
   "metadata": {
    "jupyter": {
     "is_executing": true
    }
   },
   "cell_type": "code",
   "source": "e_data = e.compute()",
   "id": "c120c29d806f5959",
   "outputs": [],
   "execution_count": null
  },
  {
   "metadata": {},
   "cell_type": "code",
   "outputs": [],
   "execution_count": null,
   "source": "",
   "id": "286e9dc4f6054509"
  }
 ],
 "metadata": {
  "kernelspec": {
   "display_name": "Python 3",
   "language": "python",
   "name": "python3"
  },
  "language_info": {
   "codemirror_mode": {
    "name": "ipython",
    "version": 2
   },
   "file_extension": ".py",
   "mimetype": "text/x-python",
   "name": "python",
   "nbconvert_exporter": "python",
   "pygments_lexer": "ipython2",
   "version": "2.7.6"
  }
 },
 "nbformat": 4,
 "nbformat_minor": 5
}
