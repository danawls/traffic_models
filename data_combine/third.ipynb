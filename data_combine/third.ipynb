{
 "cells": [
  {
   "cell_type": "code",
   "id": "initial_id",
   "metadata": {
    "collapsed": true,
    "ExecuteTime": {
     "end_time": "2024-08-27T15:06:57.780725Z",
     "start_time": "2024-08-27T15:06:57.058945Z"
    }
   },
   "source": [
    "import numpy as np\n",
    "import pandas as pd\n",
    "import dask.dataframe as ddf"
   ],
   "outputs": [],
   "execution_count": 1
  },
  {
   "metadata": {
    "ExecuteTime": {
     "end_time": "2024-08-27T15:06:58.467972Z",
     "start_time": "2024-08-27T15:06:57.781692Z"
    }
   },
   "cell_type": "code",
   "source": [
    "c = ddf.read_csv('/Volumes/Expansion/traffic-prediction/data/its-소통/1/its_c_1_1_m1.csv', dtype={'링크ID':'object'})\n",
    "e = ddf.read_csv('/Volumes/Expansion/traffic-prediction/data/its-돌발/1/its_e_1_1_m1.csv', dtype={'링크아이디':'object', '도로번호':'object'})\n",
    "w = ddf.read_csv('/Volumes/Expansion/traffic-prediction/data/기상청-방재/weather_1_m1.csv')\n",
    "r = ddf.read_csv('/Volumes/Expansion/traffic-prediction/data/도로 데이터/road(info)_m1.csv')\n",
    "area = ddf.read_csv(\n",
    "    '/Volumes/Expansion/traffic-prediction/data/전국교통사고다발지역표준데이터/전국교통사고다발지역표준데이터.csv')\n",
    "cam = ddf.read_csv(\n",
    "    '/Volumes/Expansion/traffic-prediction/data/전국무인교통단속카메라표준데이터/전국무인교통단속카메라표준데이터_m1.csv')\n",
    "node = ddf.read_csv('/Volumes/Expansion/traffic-prediction/data/표준노드링크/data/node_m1.csv')\n",
    "link = ddf.read_csv('/Volumes/Expansion/traffic-prediction/data/표준노드링크/data/link_m1.csv')\n",
    "men = ddf.read_csv(\n",
    "    '/Volumes/Expansion/traffic-prediction/data/행정안전부_지역별(행정동) 성별 연령별 주민등록 인구수/행정안전부_지역별(행정동) 성별 연령별 주민등록 인구수_20240731.csv')\n",
    "con = ddf.read_csv('/Volumes/Expansion/traffic-prediction/data/혼잡빈도/confusion_1_m1.csv')"
   ],
   "id": "9993cd0e40a7f2f5",
   "outputs": [],
   "execution_count": 2
  },
  {
   "metadata": {
    "ExecuteTime": {
     "end_time": "2024-08-27T15:06:58.470248Z",
     "start_time": "2024-08-27T15:06:58.468584Z"
    }
   },
   "cell_type": "code",
   "source": [
    "# 데이터 병합 순선\n",
    "# 1. 소통 데이터 데이트 컬럼 생성\n",
    "# 2. 돌발 데이터 데이트 컬럼 생성(반올림 함수)\n",
    "# 3. 둘 결합\n",
    "# 4. 링크 데이터 링크 아이디 개명 후(영어로 통일) 결합(위도 경도는 중점으로.)\n",
    "# 5. 노드 아이디도 결합\n",
    "# 6. 날씨 데이터와 날씨 지점 데이터 결합\n",
    "# 7. 기존 결합데이터에서 가장 유클리디안 거리로 가까운 지점명 컬럼 생성\n",
    "# 8. 결합 날씨 데이터와 결합\n",
    "# 9. 혼잡빈도 데이터 결합\n",
    "# 10. 그외 잡 변수 결합\n",
    "# 11. 링크 별로 그룹화, 중복 제거 후 배치로 내보내기"
   ],
   "id": "80788417cd5a1afd",
   "outputs": [],
   "execution_count": 3
  },
  {
   "metadata": {
    "ExecuteTime": {
     "end_time": "2024-08-27T15:06:58.473173Z",
     "start_time": "2024-08-27T15:06:58.470764Z"
    }
   },
   "cell_type": "code",
   "source": [
    "    def get_big_date(v):\n",
    "        a = str(v)\n",
    "        return a[:4] + '-' + a[4:6] + '-' + a[6:8]\n",
    "\n",
    "    def get_time(v):\n",
    "        a = str(v).rjust(4, '0')\n",
    "        return a[:2] + ':' + a[2:]\n",
    "\n",
    "    def remove_s(v):\n",
    "        a = str(v)\n",
    "        return a[:-2] + '00'\n",
    "\n",
    "    def custom_round(a):\n",
    "        s = str(a)\n",
    "        number = int(s[14:16])\n",
    "\n",
    "        if number >= 53:\n",
    "            return s\n",
    "        else:\n",
    "            remainder = number % 10  # 1의 자리 숫자를 얻기 위해 10으로 나눈 나머지로 한다.\n",
    "        result = 0\n",
    "        if remainder in [0, 1, 2]:\n",
    "            result = number - remainder  # 0, 1, 2는 0으로 반올림\n",
    "        elif remainder in [3, 4, 5, 6, 7]:\n",
    "            result = number - remainder + 5  # 3, 4, 5, 6, 7은 5로 반올림\n",
    "        else:\n",
    "            result = number - remainder + 10  # 8, 9는 0으로 반올림\n",
    "\n",
    "        return s[:14] + str(result) + s[16:]"
   ],
   "id": "c04c647752038b4e",
   "outputs": [],
   "execution_count": 4
  },
  {
   "metadata": {
    "jupyter": {
     "is_executing": true
    },
    "ExecuteTime": {
     "start_time": "2024-08-27T15:06:58.474380Z"
    }
   },
   "cell_type": "code",
   "source": [
    "c_data = []\n",
    "nparti = c.npartitions\n",
    "for i in range(nparti):\n",
    "    df_partition = c.get_partition(i).compute()\n",
    "    c_data.append(df_partition)\n",
    "    del df_partition\n",
    "\n",
    "# 컬럼 이름 변경\n",
    "for i in range(nparti):\n",
    "    c_data[i] = c_data[i].rename(columns={'링크ID':'LINK_ID'})\n",
    "    c_data[i] = c_data[i].astype({'LINK_ID':'str'})"
   ],
   "id": "f0d97a21c1a353a",
   "outputs": [],
   "execution_count": null
  },
  {
   "metadata": {
    "jupyter": {
     "is_executing": true
    }
   },
   "cell_type": "code",
   "source": [
    "for i in range(nparti):\n",
    "    c_data[i]['date'] = pd.to_datetime(c_data[i]['생성일'].apply(get_big_date) + ' ' + c_data[i]['생성시분'].apply(get_time))\n",
    "    c_data[i] = c_data[i][pd.Index([c_data[i].columns[-1]]).append(c_data[i].columns[:-1])]"
   ],
   "id": "2421c6ede15130c4",
   "outputs": [],
   "execution_count": null
  },
  {
   "metadata": {
    "jupyter": {
     "is_executing": true
    }
   },
   "cell_type": "code",
   "source": "e_data = e.compute()",
   "id": "c120c29d806f5959",
   "outputs": [],
   "execution_count": null
  },
  {
   "metadata": {
    "jupyter": {
     "is_executing": true
    }
   },
   "cell_type": "code",
   "source": [
    "e_data = e_data.rename(columns={'링크아이디':'LINK_ID'})\n",
    "e_data = e_data.astype({'LINK_ID':'str'})"
   ],
   "id": "286e9dc4f6054509",
   "outputs": [],
   "execution_count": null
  },
  {
   "metadata": {
    "jupyter": {
     "is_executing": true
    }
   },
   "cell_type": "code",
   "source": [
    "e_data['date'] = pd.to_datetime(e_data['돌발일시'].apply(remove_s))\n",
    "e_data = e_data[pd.Index([e_data.columns[-1]]).append(e_data.columns[:-1])]\n",
    "e_data['date'] = pd.to_datetime(e_data['date'].apply(custom_round))\n",
    "\n",
    "e_data"
   ],
   "id": "df8b786b13a1db83",
   "outputs": [],
   "execution_count": null
  },
  {
   "metadata": {
    "jupyter": {
     "is_executing": true
    }
   },
   "cell_type": "code",
   "source": [
    "combine = 0 #임시\n",
    "for i in range(nparti):\n",
    "    combines = pd.merge(c_data[i], e_data, on=['date', 'LINK_ID'], how='left')\n",
    "    if i == 0:\n",
    "        combine = combines\n",
    "    else:\n",
    "        combine = pd.concat([combine, combines], axis=0)\n",
    "    del combines\n",
    "    del c_data[i]"
   ],
   "id": "b4fd67eae2384abf",
   "outputs": [],
   "execution_count": null
  },
  {
   "metadata": {
    "jupyter": {
     "is_executing": true
    }
   },
   "cell_type": "code",
   "source": "combine",
   "id": "bdb27118a8111c91",
   "outputs": [],
   "execution_count": null
  }
 ],
 "metadata": {
  "kernelspec": {
   "display_name": "Python 3",
   "language": "python",
   "name": "python3"
  },
  "language_info": {
   "codemirror_mode": {
    "name": "ipython",
    "version": 2
   },
   "file_extension": ".py",
   "mimetype": "text/x-python",
   "name": "python",
   "nbconvert_exporter": "python",
   "pygments_lexer": "ipython2",
   "version": "2.7.6"
  }
 },
 "nbformat": 4,
 "nbformat_minor": 5
}
