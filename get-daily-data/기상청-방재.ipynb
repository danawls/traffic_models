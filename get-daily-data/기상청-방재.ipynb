{
 "cells": [
  {
   "cell_type": "code",
   "id": "initial_id",
   "metadata": {
    "collapsed": true,
    "ExecuteTime": {
     "end_time": "2024-08-25T03:14:25.489426Z",
     "start_time": "2024-08-25T03:14:25.208755Z"
    }
   },
   "source": "import pandas as pd",
   "outputs": [],
   "execution_count": 1
  },
  {
   "metadata": {
    "ExecuteTime": {
     "end_time": "2024-08-25T03:14:42.826322Z",
     "start_time": "2024-08-25T03:14:42.661944Z"
    }
   },
   "cell_type": "code",
   "source": "df = pd.read_csv('/Volumes/Expansion/traffic-prediction/data/기상청-방재/weather_1_m1.csv')",
   "id": "61116b31fa99fcc5",
   "outputs": [],
   "execution_count": 3
  },
  {
   "metadata": {
    "ExecuteTime": {
     "end_time": "2024-08-25T03:14:44.122657Z",
     "start_time": "2024-08-25T03:14:44.109996Z"
    }
   },
   "cell_type": "code",
   "source": "df",
   "id": "8902c24a7b61adb1",
   "outputs": [
    {
     "data": {
      "text/plain": [
       "         지점     지점명                일시  기온(°C)  풍향(deg)  풍속(m/s)  강수량(mm)  \\\n",
       "0        12  안면도(감)  2023-04-01 00:00    10.3     50.2      2.5      0.0   \n",
       "1        12  안면도(감)  2023-04-01 01:00    10.2     53.5      1.3      0.0   \n",
       "2        12  안면도(감)  2023-04-01 02:00    10.4    103.2      2.4      0.0   \n",
       "3        12  안면도(감)  2023-04-01 03:00    11.5     61.6      0.8      0.0   \n",
       "4        12  안면도(감)  2023-04-01 04:00    10.3    335.4      2.2      0.0   \n",
       "...     ...     ...               ...     ...      ...      ...      ...   \n",
       "369310  994      심포  2023-04-29 20:00    11.4    320.6     10.8      0.0   \n",
       "369311  994      심포  2023-04-29 21:00    11.0    313.8      9.2      0.0   \n",
       "369312  994      심포  2023-04-29 22:00    10.9    332.9      7.6      0.0   \n",
       "369313  994      심포  2023-04-29 23:00    10.8    328.4      6.5      0.0   \n",
       "369314  994      심포  2023-04-30 00:00    10.6    331.5      8.4      0.0   \n",
       "\n",
       "        현지기압(hPa)  해면기압(hPa)  습도(%)  \n",
       "0          1011.3     1018.6   41.0  \n",
       "1          1011.3     1018.6   44.0  \n",
       "2          1011.3     1018.6   50.0  \n",
       "3          1010.9     1018.2   41.0  \n",
       "4          1010.4     1017.7   47.0  \n",
       "...           ...        ...    ...  \n",
       "369310     1010.1     1010.5   82.0  \n",
       "369311     1010.9     1011.3   73.0  \n",
       "369312     1011.6     1012.0   75.0  \n",
       "369313     1011.8     1012.2   76.0  \n",
       "369314     1012.2     1012.6   76.0  \n",
       "\n",
       "[369315 rows x 10 columns]"
      ],
      "text/html": [
       "<div>\n",
       "<style scoped>\n",
       "    .dataframe tbody tr th:only-of-type {\n",
       "        vertical-align: middle;\n",
       "    }\n",
       "\n",
       "    .dataframe tbody tr th {\n",
       "        vertical-align: top;\n",
       "    }\n",
       "\n",
       "    .dataframe thead th {\n",
       "        text-align: right;\n",
       "    }\n",
       "</style>\n",
       "<table border=\"1\" class=\"dataframe\">\n",
       "  <thead>\n",
       "    <tr style=\"text-align: right;\">\n",
       "      <th></th>\n",
       "      <th>지점</th>\n",
       "      <th>지점명</th>\n",
       "      <th>일시</th>\n",
       "      <th>기온(°C)</th>\n",
       "      <th>풍향(deg)</th>\n",
       "      <th>풍속(m/s)</th>\n",
       "      <th>강수량(mm)</th>\n",
       "      <th>현지기압(hPa)</th>\n",
       "      <th>해면기압(hPa)</th>\n",
       "      <th>습도(%)</th>\n",
       "    </tr>\n",
       "  </thead>\n",
       "  <tbody>\n",
       "    <tr>\n",
       "      <th>0</th>\n",
       "      <td>12</td>\n",
       "      <td>안면도(감)</td>\n",
       "      <td>2023-04-01 00:00</td>\n",
       "      <td>10.3</td>\n",
       "      <td>50.2</td>\n",
       "      <td>2.5</td>\n",
       "      <td>0.0</td>\n",
       "      <td>1011.3</td>\n",
       "      <td>1018.6</td>\n",
       "      <td>41.0</td>\n",
       "    </tr>\n",
       "    <tr>\n",
       "      <th>1</th>\n",
       "      <td>12</td>\n",
       "      <td>안면도(감)</td>\n",
       "      <td>2023-04-01 01:00</td>\n",
       "      <td>10.2</td>\n",
       "      <td>53.5</td>\n",
       "      <td>1.3</td>\n",
       "      <td>0.0</td>\n",
       "      <td>1011.3</td>\n",
       "      <td>1018.6</td>\n",
       "      <td>44.0</td>\n",
       "    </tr>\n",
       "    <tr>\n",
       "      <th>2</th>\n",
       "      <td>12</td>\n",
       "      <td>안면도(감)</td>\n",
       "      <td>2023-04-01 02:00</td>\n",
       "      <td>10.4</td>\n",
       "      <td>103.2</td>\n",
       "      <td>2.4</td>\n",
       "      <td>0.0</td>\n",
       "      <td>1011.3</td>\n",
       "      <td>1018.6</td>\n",
       "      <td>50.0</td>\n",
       "    </tr>\n",
       "    <tr>\n",
       "      <th>3</th>\n",
       "      <td>12</td>\n",
       "      <td>안면도(감)</td>\n",
       "      <td>2023-04-01 03:00</td>\n",
       "      <td>11.5</td>\n",
       "      <td>61.6</td>\n",
       "      <td>0.8</td>\n",
       "      <td>0.0</td>\n",
       "      <td>1010.9</td>\n",
       "      <td>1018.2</td>\n",
       "      <td>41.0</td>\n",
       "    </tr>\n",
       "    <tr>\n",
       "      <th>4</th>\n",
       "      <td>12</td>\n",
       "      <td>안면도(감)</td>\n",
       "      <td>2023-04-01 04:00</td>\n",
       "      <td>10.3</td>\n",
       "      <td>335.4</td>\n",
       "      <td>2.2</td>\n",
       "      <td>0.0</td>\n",
       "      <td>1010.4</td>\n",
       "      <td>1017.7</td>\n",
       "      <td>47.0</td>\n",
       "    </tr>\n",
       "    <tr>\n",
       "      <th>...</th>\n",
       "      <td>...</td>\n",
       "      <td>...</td>\n",
       "      <td>...</td>\n",
       "      <td>...</td>\n",
       "      <td>...</td>\n",
       "      <td>...</td>\n",
       "      <td>...</td>\n",
       "      <td>...</td>\n",
       "      <td>...</td>\n",
       "      <td>...</td>\n",
       "    </tr>\n",
       "    <tr>\n",
       "      <th>369310</th>\n",
       "      <td>994</td>\n",
       "      <td>심포</td>\n",
       "      <td>2023-04-29 20:00</td>\n",
       "      <td>11.4</td>\n",
       "      <td>320.6</td>\n",
       "      <td>10.8</td>\n",
       "      <td>0.0</td>\n",
       "      <td>1010.1</td>\n",
       "      <td>1010.5</td>\n",
       "      <td>82.0</td>\n",
       "    </tr>\n",
       "    <tr>\n",
       "      <th>369311</th>\n",
       "      <td>994</td>\n",
       "      <td>심포</td>\n",
       "      <td>2023-04-29 21:00</td>\n",
       "      <td>11.0</td>\n",
       "      <td>313.8</td>\n",
       "      <td>9.2</td>\n",
       "      <td>0.0</td>\n",
       "      <td>1010.9</td>\n",
       "      <td>1011.3</td>\n",
       "      <td>73.0</td>\n",
       "    </tr>\n",
       "    <tr>\n",
       "      <th>369312</th>\n",
       "      <td>994</td>\n",
       "      <td>심포</td>\n",
       "      <td>2023-04-29 22:00</td>\n",
       "      <td>10.9</td>\n",
       "      <td>332.9</td>\n",
       "      <td>7.6</td>\n",
       "      <td>0.0</td>\n",
       "      <td>1011.6</td>\n",
       "      <td>1012.0</td>\n",
       "      <td>75.0</td>\n",
       "    </tr>\n",
       "    <tr>\n",
       "      <th>369313</th>\n",
       "      <td>994</td>\n",
       "      <td>심포</td>\n",
       "      <td>2023-04-29 23:00</td>\n",
       "      <td>10.8</td>\n",
       "      <td>328.4</td>\n",
       "      <td>6.5</td>\n",
       "      <td>0.0</td>\n",
       "      <td>1011.8</td>\n",
       "      <td>1012.2</td>\n",
       "      <td>76.0</td>\n",
       "    </tr>\n",
       "    <tr>\n",
       "      <th>369314</th>\n",
       "      <td>994</td>\n",
       "      <td>심포</td>\n",
       "      <td>2023-04-30 00:00</td>\n",
       "      <td>10.6</td>\n",
       "      <td>331.5</td>\n",
       "      <td>8.4</td>\n",
       "      <td>0.0</td>\n",
       "      <td>1012.2</td>\n",
       "      <td>1012.6</td>\n",
       "      <td>76.0</td>\n",
       "    </tr>\n",
       "  </tbody>\n",
       "</table>\n",
       "<p>369315 rows × 10 columns</p>\n",
       "</div>"
      ]
     },
     "execution_count": 4,
     "metadata": {},
     "output_type": "execute_result"
    }
   ],
   "execution_count": 4
  },
  {
   "metadata": {
    "ExecuteTime": {
     "end_time": "2024-08-25T03:15:11.448567Z",
     "start_time": "2024-08-25T03:15:11.446774Z"
    }
   },
   "cell_type": "code",
   "source": "data_df = df['일시']",
   "id": "935f7fa680f38c35",
   "outputs": [],
   "execution_count": 5
  },
  {
   "metadata": {
    "ExecuteTime": {
     "end_time": "2024-08-25T03:15:13.259510Z",
     "start_time": "2024-08-25T03:15:13.254901Z"
    }
   },
   "cell_type": "code",
   "source": "data_df",
   "id": "be0950cf8ca36315",
   "outputs": [
    {
     "data": {
      "text/plain": [
       "0         2023-04-01 00:00\n",
       "1         2023-04-01 01:00\n",
       "2         2023-04-01 02:00\n",
       "3         2023-04-01 03:00\n",
       "4         2023-04-01 04:00\n",
       "                ...       \n",
       "369310    2023-04-29 20:00\n",
       "369311    2023-04-29 21:00\n",
       "369312    2023-04-29 22:00\n",
       "369313    2023-04-29 23:00\n",
       "369314    2023-04-30 00:00\n",
       "Name: 일시, Length: 369315, dtype: object"
      ]
     },
     "execution_count": 6,
     "metadata": {},
     "output_type": "execute_result"
    }
   ],
   "execution_count": 6
  },
  {
   "metadata": {
    "ExecuteTime": {
     "end_time": "2024-08-25T04:14:55.362820Z",
     "start_time": "2024-08-25T04:14:55.275418Z"
    }
   },
   "cell_type": "code",
   "source": "",
   "id": "98328c19fb022f8f",
   "outputs": [
    {
     "ename": "KeyError",
     "evalue": "'value'",
     "output_type": "error",
     "traceback": [
      "\u001B[0;31m---------------------------------------------------------------------------\u001B[0m",
      "\u001B[0;31mKeyError\u001B[0m                                  Traceback (most recent call last)",
      "File \u001B[0;32m/opt/anaconda3/lib/python3.12/site-packages/pandas/core/indexes/base.py:3805\u001B[0m, in \u001B[0;36mIndex.get_loc\u001B[0;34m(self, key)\u001B[0m\n\u001B[1;32m   3804\u001B[0m \u001B[38;5;28;01mtry\u001B[39;00m:\n\u001B[0;32m-> 3805\u001B[0m     \u001B[38;5;28;01mreturn\u001B[39;00m \u001B[38;5;28mself\u001B[39m\u001B[38;5;241m.\u001B[39m_engine\u001B[38;5;241m.\u001B[39mget_loc(casted_key)\n\u001B[1;32m   3806\u001B[0m \u001B[38;5;28;01mexcept\u001B[39;00m \u001B[38;5;167;01mKeyError\u001B[39;00m \u001B[38;5;28;01mas\u001B[39;00m err:\n",
      "File \u001B[0;32mindex.pyx:167\u001B[0m, in \u001B[0;36mpandas._libs.index.IndexEngine.get_loc\u001B[0;34m()\u001B[0m\n",
      "File \u001B[0;32mindex.pyx:196\u001B[0m, in \u001B[0;36mpandas._libs.index.IndexEngine.get_loc\u001B[0;34m()\u001B[0m\n",
      "File \u001B[0;32mpandas/_libs/hashtable_class_helper.pxi:7081\u001B[0m, in \u001B[0;36mpandas._libs.hashtable.PyObjectHashTable.get_item\u001B[0;34m()\u001B[0m\n",
      "File \u001B[0;32mpandas/_libs/hashtable_class_helper.pxi:7089\u001B[0m, in \u001B[0;36mpandas._libs.hashtable.PyObjectHashTable.get_item\u001B[0;34m()\u001B[0m\n",
      "\u001B[0;31mKeyError\u001B[0m: 'value'",
      "\nThe above exception was the direct cause of the following exception:\n",
      "\u001B[0;31mKeyError\u001B[0m                                  Traceback (most recent call last)",
      "Cell \u001B[0;32mIn[8], line 20\u001B[0m\n\u001B[1;32m     17\u001B[0m     \u001B[38;5;28;01mreturn\u001B[39;00m pd\u001B[38;5;241m.\u001B[39mDataFrame(일별_데이터)\n\u001B[1;32m     19\u001B[0m \u001B[38;5;66;03m# 일별 데이터 생성\u001B[39;00m\n\u001B[0;32m---> 20\u001B[0m 일별_데이터 \u001B[38;5;241m=\u001B[39m 월별_데이터_일별로_나누기(df)\n\u001B[1;32m     21\u001B[0m \u001B[38;5;28mprint\u001B[39m(일별_데이터)\n",
      "Cell \u001B[0;32mIn[8], line 12\u001B[0m, in \u001B[0;36m월별_데이터_일별로_나누기\u001B[0;34m(df)\u001B[0m\n\u001B[1;32m      9\u001B[0m days_in_month \u001B[38;5;241m=\u001B[39m pd\u001B[38;5;241m.\u001B[39mPeriod(\u001B[38;5;124mf\u001B[39m\u001B[38;5;124m\"\u001B[39m\u001B[38;5;132;01m{\u001B[39;00myear\u001B[38;5;132;01m}\u001B[39;00m\u001B[38;5;124m-\u001B[39m\u001B[38;5;132;01m{\u001B[39;00mmonth\u001B[38;5;132;01m}\u001B[39;00m\u001B[38;5;124m\"\u001B[39m)\u001B[38;5;241m.\u001B[39mdays_in_month\n\u001B[1;32m     11\u001B[0m \u001B[38;5;66;03m# 월별 데이터를 일별로 나눔\u001B[39;00m\n\u001B[0;32m---> 12\u001B[0m daily_value \u001B[38;5;241m=\u001B[39m row[\u001B[38;5;124m'\u001B[39m\u001B[38;5;124mvalue\u001B[39m\u001B[38;5;124m'\u001B[39m] \u001B[38;5;241m/\u001B[39m days_in_month\n\u001B[1;32m     13\u001B[0m \u001B[38;5;28;01mfor\u001B[39;00m day \u001B[38;5;129;01min\u001B[39;00m \u001B[38;5;28mrange\u001B[39m(\u001B[38;5;241m1\u001B[39m, days_in_month \u001B[38;5;241m+\u001B[39m \u001B[38;5;241m1\u001B[39m):\n\u001B[1;32m     14\u001B[0m     new_date \u001B[38;5;241m=\u001B[39m \u001B[38;5;124mf\u001B[39m\u001B[38;5;124m\"\u001B[39m\u001B[38;5;132;01m{\u001B[39;00myear\u001B[38;5;132;01m}\u001B[39;00m\u001B[38;5;124m-\u001B[39m\u001B[38;5;132;01m{\u001B[39;00mmonth\u001B[38;5;132;01m:\u001B[39;00m\u001B[38;5;124m02d\u001B[39m\u001B[38;5;132;01m}\u001B[39;00m\u001B[38;5;124m-\u001B[39m\u001B[38;5;132;01m{\u001B[39;00mday\u001B[38;5;132;01m:\u001B[39;00m\u001B[38;5;124m02d\u001B[39m\u001B[38;5;132;01m}\u001B[39;00m\u001B[38;5;124m 04:00\u001B[39m\u001B[38;5;124m\"\u001B[39m  \u001B[38;5;66;03m# 기존 시간 유지\u001B[39;00m\n",
      "File \u001B[0;32m/opt/anaconda3/lib/python3.12/site-packages/pandas/core/series.py:1121\u001B[0m, in \u001B[0;36mSeries.__getitem__\u001B[0;34m(self, key)\u001B[0m\n\u001B[1;32m   1118\u001B[0m     \u001B[38;5;28;01mreturn\u001B[39;00m \u001B[38;5;28mself\u001B[39m\u001B[38;5;241m.\u001B[39m_values[key]\n\u001B[1;32m   1120\u001B[0m \u001B[38;5;28;01melif\u001B[39;00m key_is_scalar:\n\u001B[0;32m-> 1121\u001B[0m     \u001B[38;5;28;01mreturn\u001B[39;00m \u001B[38;5;28mself\u001B[39m\u001B[38;5;241m.\u001B[39m_get_value(key)\n\u001B[1;32m   1123\u001B[0m \u001B[38;5;66;03m# Convert generator to list before going through hashable part\u001B[39;00m\n\u001B[1;32m   1124\u001B[0m \u001B[38;5;66;03m# (We will iterate through the generator there to check for slices)\u001B[39;00m\n\u001B[1;32m   1125\u001B[0m \u001B[38;5;28;01mif\u001B[39;00m is_iterator(key):\n",
      "File \u001B[0;32m/opt/anaconda3/lib/python3.12/site-packages/pandas/core/series.py:1237\u001B[0m, in \u001B[0;36mSeries._get_value\u001B[0;34m(self, label, takeable)\u001B[0m\n\u001B[1;32m   1234\u001B[0m     \u001B[38;5;28;01mreturn\u001B[39;00m \u001B[38;5;28mself\u001B[39m\u001B[38;5;241m.\u001B[39m_values[label]\n\u001B[1;32m   1236\u001B[0m \u001B[38;5;66;03m# Similar to Index.get_value, but we do not fall back to positional\u001B[39;00m\n\u001B[0;32m-> 1237\u001B[0m loc \u001B[38;5;241m=\u001B[39m \u001B[38;5;28mself\u001B[39m\u001B[38;5;241m.\u001B[39mindex\u001B[38;5;241m.\u001B[39mget_loc(label)\n\u001B[1;32m   1239\u001B[0m \u001B[38;5;28;01mif\u001B[39;00m is_integer(loc):\n\u001B[1;32m   1240\u001B[0m     \u001B[38;5;28;01mreturn\u001B[39;00m \u001B[38;5;28mself\u001B[39m\u001B[38;5;241m.\u001B[39m_values[loc]\n",
      "File \u001B[0;32m/opt/anaconda3/lib/python3.12/site-packages/pandas/core/indexes/base.py:3812\u001B[0m, in \u001B[0;36mIndex.get_loc\u001B[0;34m(self, key)\u001B[0m\n\u001B[1;32m   3807\u001B[0m     \u001B[38;5;28;01mif\u001B[39;00m \u001B[38;5;28misinstance\u001B[39m(casted_key, \u001B[38;5;28mslice\u001B[39m) \u001B[38;5;129;01mor\u001B[39;00m (\n\u001B[1;32m   3808\u001B[0m         \u001B[38;5;28misinstance\u001B[39m(casted_key, abc\u001B[38;5;241m.\u001B[39mIterable)\n\u001B[1;32m   3809\u001B[0m         \u001B[38;5;129;01mand\u001B[39;00m \u001B[38;5;28many\u001B[39m(\u001B[38;5;28misinstance\u001B[39m(x, \u001B[38;5;28mslice\u001B[39m) \u001B[38;5;28;01mfor\u001B[39;00m x \u001B[38;5;129;01min\u001B[39;00m casted_key)\n\u001B[1;32m   3810\u001B[0m     ):\n\u001B[1;32m   3811\u001B[0m         \u001B[38;5;28;01mraise\u001B[39;00m InvalidIndexError(key)\n\u001B[0;32m-> 3812\u001B[0m     \u001B[38;5;28;01mraise\u001B[39;00m \u001B[38;5;167;01mKeyError\u001B[39;00m(key) \u001B[38;5;28;01mfrom\u001B[39;00m \u001B[38;5;21;01merr\u001B[39;00m\n\u001B[1;32m   3813\u001B[0m \u001B[38;5;28;01mexcept\u001B[39;00m \u001B[38;5;167;01mTypeError\u001B[39;00m:\n\u001B[1;32m   3814\u001B[0m     \u001B[38;5;66;03m# If we have a listlike key, _check_indexing_error will raise\u001B[39;00m\n\u001B[1;32m   3815\u001B[0m     \u001B[38;5;66;03m#  InvalidIndexError. Otherwise we fall through and re-raise\u001B[39;00m\n\u001B[1;32m   3816\u001B[0m     \u001B[38;5;66;03m#  the TypeError.\u001B[39;00m\n\u001B[1;32m   3817\u001B[0m     \u001B[38;5;28mself\u001B[39m\u001B[38;5;241m.\u001B[39m_check_indexing_error(key)\n",
      "\u001B[0;31mKeyError\u001B[0m: 'value'"
     ]
    }
   ],
   "execution_count": 8
  },
  {
   "metadata": {},
   "cell_type": "code",
   "outputs": [],
   "execution_count": null,
   "source": "",
   "id": "876d35fa910d2773"
  }
 ],
 "metadata": {
  "kernelspec": {
   "display_name": "Python 3",
   "language": "python",
   "name": "python3"
  },
  "language_info": {
   "codemirror_mode": {
    "name": "ipython",
    "version": 2
   },
   "file_extension": ".py",
   "mimetype": "text/x-python",
   "name": "python",
   "nbconvert_exporter": "python",
   "pygments_lexer": "ipython2",
   "version": "2.7.6"
  }
 },
 "nbformat": 4,
 "nbformat_minor": 5
}
