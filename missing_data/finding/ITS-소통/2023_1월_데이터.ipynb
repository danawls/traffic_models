{
 "cells": [
  {
   "metadata": {},
   "cell_type": "markdown",
   "source": [
    "# 결측치 탐색\n",
    "수집된 ITS 소통정보데이터 중 2023년 1월의 5분 주기로 측정된 모든 데이터에서 결측치 탐색한다."
   ],
   "id": "3efd37ec3a346162"
  },
  {
   "metadata": {
    "ExecuteTime": {
     "end_time": "2024-08-19T14:58:13.417361Z",
     "start_time": "2024-08-19T14:58:12.916906Z"
    }
   },
   "cell_type": "code",
   "source": [
    "import pandas as pd\n",
    "import numpy as np\n",
    "import dask.dataframe as ddf"
   ],
   "id": "4fee684a9a665e52",
   "outputs": [],
   "execution_count": 1
  },
  {
   "metadata": {},
   "cell_type": "markdown",
   "source": [
    "## 데이터 로드\n",
    "pandas만을 사용한다면 메모리 용량의 한계에 다다르기 때문에 대규모 용량의 데이터에 최적화된 패키지인 dask를 사용하여 데이터를 로드 하였다."
   ],
   "id": "2a808bae32bbcd62"
  },
  {
   "metadata": {
    "ExecuteTime": {
     "end_time": "2024-08-19T17:15:10.935075Z",
     "start_time": "2024-08-19T14:58:18.823828Z"
    }
   },
   "cell_type": "code",
   "source": [
    "for i in range(31):\n",
    "    # Dask DataFrame을 읽어옵니다.\n",
    "    df = ddf.read_csv(f'/Volumes/Expansion/traffic-prediction/data/its-소통/1/its_c_1_{i + 1}.csv', dtype='object')\n",
    "\n",
    "    # 열 이름 지정\n",
    "    df.columns = ['생성일', '생성시분', '링크ID', '도로관리기관', '통행속도', '통행시간']\n",
    "    \n",
    "    # '도로관리기관' 열이 존재하는지 확인 후 드롭\n",
    "    if '도로관리기관' in df.columns:\n",
    "        df = df.drop('도로관리기관', axis=1)\n",
    "    \n",
    "    # 데이터 타입 변경\n",
    "    df = df.astype({\n",
    "        '생성일': 'int64',\n",
    "        '생성시분': 'int64',\n",
    "        '링크ID': 'object',\n",
    "        '통행속도': 'float64',\n",
    "        '통행시간': 'int64'\n",
    "    })\n",
    "    \n",
    "    # CSV로 저장\n",
    "    output_path = f'/Volumes/Expansion/traffic-prediction/data/its-소통/1/its_c_1_{i + 1}_m1.csv'\n",
    "    df.to_csv(output_path, index=False, single_file=True)\n",
    "    \n",
    "    # 메모리에서 Dask DataFrame 해제\n",
    "    del df"
   ],
   "id": "3d3247c35bca2176",
   "outputs": [],
   "execution_count": 2
  },
  {
   "metadata": {},
   "cell_type": "markdown",
   "source": "### 1일",
   "id": "bb2037e3d8bfa046"
  },
  {
   "metadata": {
    "ExecuteTime": {
     "end_time": "2024-08-18T07:44:09.213395Z",
     "start_time": "2024-08-18T07:44:08.868599Z"
    }
   },
   "cell_type": "code",
   "source": "its_c_1_1_dask = ddf.read_csv('/Volumes/Expansion/traffic-prediction/data/its-소통/1/its_c_1_1.csv', dtype={'1000000100': 'object', '35': 'float64'})",
   "id": "f081a9a76c7cfee3",
   "outputs": [],
   "execution_count": 14
  },
  {
   "metadata": {
    "ExecuteTime": {
     "end_time": "2024-08-18T07:44:10.205771Z",
     "start_time": "2024-08-18T07:44:10.203607Z"
    }
   },
   "cell_type": "code",
   "source": "# its_c_1_1_dask.columns = ['1_c', '2_c','3_c', '4_c', '5_c', '6_c']",
   "id": "2523442b817ff3ac",
   "outputs": [],
   "execution_count": 15
  },
  {
   "metadata": {
    "ExecuteTime": {
     "end_time": "2024-08-18T07:44:12.080177Z",
     "start_time": "2024-08-18T07:44:10.669514Z"
    }
   },
   "cell_type": "code",
   "source": "its_c_1_1_dask.head()",
   "id": "69d035fdd9aaf6fd",
   "outputs": [
    {
     "data": {
      "text/plain": [
       "   20230101  0000  1000000100  Unnamed: 3    35  0\n",
       "0  20230101     0  1000000200         NaN  36.0  0\n",
       "1  20230101     0  1000000300         NaN  13.0  0\n",
       "2  20230101     0  1000000301         NaN  22.0  0\n",
       "3  20230101     0  1000000302         NaN  21.0  0\n",
       "4  20230101     0  1000000303         NaN   6.0  0"
      ],
      "text/html": [
       "<div>\n",
       "<style scoped>\n",
       "    .dataframe tbody tr th:only-of-type {\n",
       "        vertical-align: middle;\n",
       "    }\n",
       "\n",
       "    .dataframe tbody tr th {\n",
       "        vertical-align: top;\n",
       "    }\n",
       "\n",
       "    .dataframe thead th {\n",
       "        text-align: right;\n",
       "    }\n",
       "</style>\n",
       "<table border=\"1\" class=\"dataframe\">\n",
       "  <thead>\n",
       "    <tr style=\"text-align: right;\">\n",
       "      <th></th>\n",
       "      <th>20230101</th>\n",
       "      <th>0000</th>\n",
       "      <th>1000000100</th>\n",
       "      <th>Unnamed: 3</th>\n",
       "      <th>35</th>\n",
       "      <th>0</th>\n",
       "    </tr>\n",
       "  </thead>\n",
       "  <tbody>\n",
       "    <tr>\n",
       "      <th>0</th>\n",
       "      <td>20230101</td>\n",
       "      <td>0</td>\n",
       "      <td>1000000200</td>\n",
       "      <td>NaN</td>\n",
       "      <td>36.0</td>\n",
       "      <td>0</td>\n",
       "    </tr>\n",
       "    <tr>\n",
       "      <th>1</th>\n",
       "      <td>20230101</td>\n",
       "      <td>0</td>\n",
       "      <td>1000000300</td>\n",
       "      <td>NaN</td>\n",
       "      <td>13.0</td>\n",
       "      <td>0</td>\n",
       "    </tr>\n",
       "    <tr>\n",
       "      <th>2</th>\n",
       "      <td>20230101</td>\n",
       "      <td>0</td>\n",
       "      <td>1000000301</td>\n",
       "      <td>NaN</td>\n",
       "      <td>22.0</td>\n",
       "      <td>0</td>\n",
       "    </tr>\n",
       "    <tr>\n",
       "      <th>3</th>\n",
       "      <td>20230101</td>\n",
       "      <td>0</td>\n",
       "      <td>1000000302</td>\n",
       "      <td>NaN</td>\n",
       "      <td>21.0</td>\n",
       "      <td>0</td>\n",
       "    </tr>\n",
       "    <tr>\n",
       "      <th>4</th>\n",
       "      <td>20230101</td>\n",
       "      <td>0</td>\n",
       "      <td>1000000303</td>\n",
       "      <td>NaN</td>\n",
       "      <td>6.0</td>\n",
       "      <td>0</td>\n",
       "    </tr>\n",
       "  </tbody>\n",
       "</table>\n",
       "</div>"
      ]
     },
     "execution_count": 16,
     "metadata": {},
     "output_type": "execute_result"
    }
   ],
   "execution_count": 16
  },
  {
   "metadata": {
    "ExecuteTime": {
     "end_time": "2024-08-18T07:45:08.725347Z",
     "start_time": "2024-08-18T07:44:12.809637Z"
    }
   },
   "cell_type": "code",
   "source": [
    "for partition in its_c_1_1_dask.to_delayed():\n",
    "    partition_its_c_1_1 = partition.compute()"
   ],
   "id": "d99759b8b3a5a234",
   "outputs": [],
   "execution_count": 17
  },
  {
   "metadata": {
    "ExecuteTime": {
     "end_time": "2024-08-18T07:45:35.514183Z",
     "start_time": "2024-08-18T07:45:35.506399Z"
    }
   },
   "cell_type": "code",
   "source": "partition_its_c_1_1",
   "id": "80bbf5463ac108eb",
   "outputs": [
    {
     "data": {
      "text/plain": [
       "         20230101  0000  1000000100  Unnamed: 3     35  0\n",
       "0        20230101  2345  2510159608         NaN   26.0  0\n",
       "1        20230101  2345  2510159700         NaN   25.5  0\n",
       "2        20230101  2345  2510159800         NaN   21.0  0\n",
       "3        20230101  2345  2510159900         NaN   31.0  0\n",
       "4        20230101  2345  2510159901         NaN   20.5  0\n",
       "...           ...   ...         ...         ...    ... ..\n",
       "1616864  20230101  2355  4180383901         NaN    4.0  0\n",
       "1616865  20230101  2355  4180384001         NaN   97.0  0\n",
       "1616866  20230101  2355  4180384101         NaN   76.0  0\n",
       "1616867  20230101  2355  4180384201         NaN  115.0  0\n",
       "1616868  20230101  2355  4180384301         NaN   79.0  0\n",
       "\n",
       "[1616869 rows x 6 columns]"
      ],
      "text/html": [
       "<div>\n",
       "<style scoped>\n",
       "    .dataframe tbody tr th:only-of-type {\n",
       "        vertical-align: middle;\n",
       "    }\n",
       "\n",
       "    .dataframe tbody tr th {\n",
       "        vertical-align: top;\n",
       "    }\n",
       "\n",
       "    .dataframe thead th {\n",
       "        text-align: right;\n",
       "    }\n",
       "</style>\n",
       "<table border=\"1\" class=\"dataframe\">\n",
       "  <thead>\n",
       "    <tr style=\"text-align: right;\">\n",
       "      <th></th>\n",
       "      <th>20230101</th>\n",
       "      <th>0000</th>\n",
       "      <th>1000000100</th>\n",
       "      <th>Unnamed: 3</th>\n",
       "      <th>35</th>\n",
       "      <th>0</th>\n",
       "    </tr>\n",
       "  </thead>\n",
       "  <tbody>\n",
       "    <tr>\n",
       "      <th>0</th>\n",
       "      <td>20230101</td>\n",
       "      <td>2345</td>\n",
       "      <td>2510159608</td>\n",
       "      <td>NaN</td>\n",
       "      <td>26.0</td>\n",
       "      <td>0</td>\n",
       "    </tr>\n",
       "    <tr>\n",
       "      <th>1</th>\n",
       "      <td>20230101</td>\n",
       "      <td>2345</td>\n",
       "      <td>2510159700</td>\n",
       "      <td>NaN</td>\n",
       "      <td>25.5</td>\n",
       "      <td>0</td>\n",
       "    </tr>\n",
       "    <tr>\n",
       "      <th>2</th>\n",
       "      <td>20230101</td>\n",
       "      <td>2345</td>\n",
       "      <td>2510159800</td>\n",
       "      <td>NaN</td>\n",
       "      <td>21.0</td>\n",
       "      <td>0</td>\n",
       "    </tr>\n",
       "    <tr>\n",
       "      <th>3</th>\n",
       "      <td>20230101</td>\n",
       "      <td>2345</td>\n",
       "      <td>2510159900</td>\n",
       "      <td>NaN</td>\n",
       "      <td>31.0</td>\n",
       "      <td>0</td>\n",
       "    </tr>\n",
       "    <tr>\n",
       "      <th>4</th>\n",
       "      <td>20230101</td>\n",
       "      <td>2345</td>\n",
       "      <td>2510159901</td>\n",
       "      <td>NaN</td>\n",
       "      <td>20.5</td>\n",
       "      <td>0</td>\n",
       "    </tr>\n",
       "    <tr>\n",
       "      <th>...</th>\n",
       "      <td>...</td>\n",
       "      <td>...</td>\n",
       "      <td>...</td>\n",
       "      <td>...</td>\n",
       "      <td>...</td>\n",
       "      <td>...</td>\n",
       "    </tr>\n",
       "    <tr>\n",
       "      <th>1616864</th>\n",
       "      <td>20230101</td>\n",
       "      <td>2355</td>\n",
       "      <td>4180383901</td>\n",
       "      <td>NaN</td>\n",
       "      <td>4.0</td>\n",
       "      <td>0</td>\n",
       "    </tr>\n",
       "    <tr>\n",
       "      <th>1616865</th>\n",
       "      <td>20230101</td>\n",
       "      <td>2355</td>\n",
       "      <td>4180384001</td>\n",
       "      <td>NaN</td>\n",
       "      <td>97.0</td>\n",
       "      <td>0</td>\n",
       "    </tr>\n",
       "    <tr>\n",
       "      <th>1616866</th>\n",
       "      <td>20230101</td>\n",
       "      <td>2355</td>\n",
       "      <td>4180384101</td>\n",
       "      <td>NaN</td>\n",
       "      <td>76.0</td>\n",
       "      <td>0</td>\n",
       "    </tr>\n",
       "    <tr>\n",
       "      <th>1616867</th>\n",
       "      <td>20230101</td>\n",
       "      <td>2355</td>\n",
       "      <td>4180384201</td>\n",
       "      <td>NaN</td>\n",
       "      <td>115.0</td>\n",
       "      <td>0</td>\n",
       "    </tr>\n",
       "    <tr>\n",
       "      <th>1616868</th>\n",
       "      <td>20230101</td>\n",
       "      <td>2355</td>\n",
       "      <td>4180384301</td>\n",
       "      <td>NaN</td>\n",
       "      <td>79.0</td>\n",
       "      <td>0</td>\n",
       "    </tr>\n",
       "  </tbody>\n",
       "</table>\n",
       "<p>1616869 rows × 6 columns</p>\n",
       "</div>"
      ]
     },
     "execution_count": 18,
     "metadata": {},
     "output_type": "execute_result"
    }
   ],
   "execution_count": 18
  },
  {
   "metadata": {
    "ExecuteTime": {
     "end_time": "2024-08-18T07:45:38.350769Z",
     "start_time": "2024-08-18T07:45:38.347614Z"
    }
   },
   "cell_type": "code",
   "source": "partition_its_c_1_1.columns = ['생성일', '생성시분', '링크ID', '도로관리기관', '통행속도', '통행시간']",
   "id": "f737c2bbeaeb91c0",
   "outputs": [],
   "execution_count": 19
  },
  {
   "metadata": {
    "ExecuteTime": {
     "end_time": "2024-08-18T07:45:39.919682Z",
     "start_time": "2024-08-18T07:45:39.914740Z"
    }
   },
   "cell_type": "code",
   "source": "partition_its_c_1_1.tail()",
   "id": "12536216e1fb0fe4",
   "outputs": [
    {
     "data": {
      "text/plain": [
       "              생성일  생성시분        링크ID  도로관리기관   통행속도  통행시간\n",
       "1616864  20230101  2355  4180383901     NaN    4.0     0\n",
       "1616865  20230101  2355  4180384001     NaN   97.0     0\n",
       "1616866  20230101  2355  4180384101     NaN   76.0     0\n",
       "1616867  20230101  2355  4180384201     NaN  115.0     0\n",
       "1616868  20230101  2355  4180384301     NaN   79.0     0"
      ],
      "text/html": [
       "<div>\n",
       "<style scoped>\n",
       "    .dataframe tbody tr th:only-of-type {\n",
       "        vertical-align: middle;\n",
       "    }\n",
       "\n",
       "    .dataframe tbody tr th {\n",
       "        vertical-align: top;\n",
       "    }\n",
       "\n",
       "    .dataframe thead th {\n",
       "        text-align: right;\n",
       "    }\n",
       "</style>\n",
       "<table border=\"1\" class=\"dataframe\">\n",
       "  <thead>\n",
       "    <tr style=\"text-align: right;\">\n",
       "      <th></th>\n",
       "      <th>생성일</th>\n",
       "      <th>생성시분</th>\n",
       "      <th>링크ID</th>\n",
       "      <th>도로관리기관</th>\n",
       "      <th>통행속도</th>\n",
       "      <th>통행시간</th>\n",
       "    </tr>\n",
       "  </thead>\n",
       "  <tbody>\n",
       "    <tr>\n",
       "      <th>1616864</th>\n",
       "      <td>20230101</td>\n",
       "      <td>2355</td>\n",
       "      <td>4180383901</td>\n",
       "      <td>NaN</td>\n",
       "      <td>4.0</td>\n",
       "      <td>0</td>\n",
       "    </tr>\n",
       "    <tr>\n",
       "      <th>1616865</th>\n",
       "      <td>20230101</td>\n",
       "      <td>2355</td>\n",
       "      <td>4180384001</td>\n",
       "      <td>NaN</td>\n",
       "      <td>97.0</td>\n",
       "      <td>0</td>\n",
       "    </tr>\n",
       "    <tr>\n",
       "      <th>1616866</th>\n",
       "      <td>20230101</td>\n",
       "      <td>2355</td>\n",
       "      <td>4180384101</td>\n",
       "      <td>NaN</td>\n",
       "      <td>76.0</td>\n",
       "      <td>0</td>\n",
       "    </tr>\n",
       "    <tr>\n",
       "      <th>1616867</th>\n",
       "      <td>20230101</td>\n",
       "      <td>2355</td>\n",
       "      <td>4180384201</td>\n",
       "      <td>NaN</td>\n",
       "      <td>115.0</td>\n",
       "      <td>0</td>\n",
       "    </tr>\n",
       "    <tr>\n",
       "      <th>1616868</th>\n",
       "      <td>20230101</td>\n",
       "      <td>2355</td>\n",
       "      <td>4180384301</td>\n",
       "      <td>NaN</td>\n",
       "      <td>79.0</td>\n",
       "      <td>0</td>\n",
       "    </tr>\n",
       "  </tbody>\n",
       "</table>\n",
       "</div>"
      ]
     },
     "execution_count": 20,
     "metadata": {},
     "output_type": "execute_result"
    }
   ],
   "execution_count": 20
  },
  {
   "metadata": {
    "ExecuteTime": {
     "end_time": "2024-08-18T07:45:45.707348Z",
     "start_time": "2024-08-18T07:45:45.661378Z"
    }
   },
   "cell_type": "code",
   "source": "null_data = partition_its_c_1_1.isnull().sum()",
   "id": "5e190639aac665dd",
   "outputs": [],
   "execution_count": 21
  },
  {
   "metadata": {
    "ExecuteTime": {
     "end_time": "2024-08-18T07:45:46.714429Z",
     "start_time": "2024-08-18T07:45:46.708471Z"
    }
   },
   "cell_type": "code",
   "source": [
    "# csv로 저장\n",
    "null_data.to_csv('2023_1_1_소통_null.csv', index=False)"
   ],
   "id": "fe9e2581cb2f337e",
   "outputs": [],
   "execution_count": 22
  },
  {
   "metadata": {
    "ExecuteTime": {
     "end_time": "2024-08-18T07:52:02.780867Z",
     "start_time": "2024-08-18T07:52:02.776499Z"
    }
   },
   "cell_type": "code",
   "source": "partition_its_c_1_1['도로관리기관'].describe",
   "id": "589f1278712d187f",
   "outputs": [
    {
     "data": {
      "text/plain": [
       "<bound method NDFrame.describe of 0         NaN\n",
       "1         NaN\n",
       "2         NaN\n",
       "3         NaN\n",
       "4         NaN\n",
       "           ..\n",
       "1616864   NaN\n",
       "1616865   NaN\n",
       "1616866   NaN\n",
       "1616867   NaN\n",
       "1616868   NaN\n",
       "Name: 도로관리기관, Length: 1616869, dtype: float64>"
      ]
     },
     "execution_count": 35,
     "metadata": {},
     "output_type": "execute_result"
    }
   ],
   "execution_count": 35
  },
  {
   "metadata": {},
   "cell_type": "markdown",
   "source": "### 2일",
   "id": "d1cdbc5c53fe3a01"
  },
  {
   "metadata": {
    "ExecuteTime": {
     "end_time": "2024-08-20T07:36:35.382263Z",
     "start_time": "2024-08-20T07:36:34.126612Z"
    }
   },
   "cell_type": "code",
   "source": [
    "import os\n",
    "for i in range(31):\n",
    "    path = f'/Volumes/Expansion/traffic-prediction/data/its-소통/1/its_c_1_{i + 1}.csv'\n",
    "    if os.path.exists(path):\n",
    "        os.remove(path)"
   ],
   "id": "8250cc27bc22a861",
   "outputs": [],
   "execution_count": 1
  },
  {
   "metadata": {},
   "cell_type": "code",
   "outputs": [],
   "execution_count": null,
   "source": "",
   "id": "963961afcf800d3f"
  }
 ],
 "metadata": {
  "kernelspec": {
   "display_name": "Python 3",
   "language": "python",
   "name": "python3"
  },
  "language_info": {
   "codemirror_mode": {
    "name": "ipython",
    "version": 2
   },
   "file_extension": ".py",
   "mimetype": "text/x-python",
   "name": "python",
   "nbconvert_exporter": "python",
   "pygments_lexer": "ipython2",
   "version": "2.7.6"
  }
 },
 "nbformat": 4,
 "nbformat_minor": 5
}
