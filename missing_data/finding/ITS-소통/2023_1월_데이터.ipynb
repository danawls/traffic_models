{
 "cells": [
  {
   "metadata": {},
   "cell_type": "markdown",
   "source": [
    "# 결측치 탐색\n",
    "수집된 ITS 소통정보데이터 중 2023년 1월의 5분 주기로 측정된 모든 데이터에서 결측치 탐색한다."
   ],
   "id": "3efd37ec3a346162"
  },
  {
   "metadata": {},
   "cell_type": "markdown",
   "source": [
    "## 데이터 로드\n",
    "pandas만을 사용한다면 메모리 용량의 한계에 다다르기 때문에 대규모 용량의 데이터에 최적화된 패키지인 dask를 사용하여 데이터를 로드 하였다."
   ],
   "id": "2a808bae32bbcd62"
  },
  {
   "metadata": {
    "ExecuteTime": {
     "end_time": "2024-08-18T06:06:29.231227Z",
     "start_time": "2024-08-18T06:06:28.608217Z"
    }
   },
   "cell_type": "code",
   "source": [
    "import pandas as pd\n",
    "import numpy as np\n",
    "import dask.dataframe as ddf"
   ],
   "id": "aaa8f828e76f727a",
   "outputs": [],
   "execution_count": 2
  },
  {
   "metadata": {
    "ExecuteTime": {
     "end_time": "2024-08-18T06:06:29.285582Z",
     "start_time": "2024-08-18T06:06:29.232081Z"
    }
   },
   "cell_type": "code",
   "source": "its_c_1_1_dask = ddf.read_csv('/Volumes/Expansion/traffic-prediction/data/its-소통/1/its_c_1_1.csv', dtype={'1000000100': 'object', '35': 'float64'})",
   "id": "f081a9a76c7cfee3",
   "outputs": [],
   "execution_count": 3
  },
  {
   "metadata": {
    "ExecuteTime": {
     "end_time": "2024-08-18T06:06:29.287986Z",
     "start_time": "2024-08-18T06:06:29.286424Z"
    }
   },
   "cell_type": "code",
   "source": "# its_c_1_1_dask.columns = ['1_c', '2_c','3_c', '4_c', '5_c', '6_c']",
   "id": "2523442b817ff3ac",
   "outputs": [],
   "execution_count": 4
  },
  {
   "metadata": {
    "ExecuteTime": {
     "end_time": "2024-08-18T06:06:29.957943Z",
     "start_time": "2024-08-18T06:06:29.289224Z"
    }
   },
   "cell_type": "code",
   "source": "its_c_1_1_dask.head()",
   "id": "69d035fdd9aaf6fd",
   "outputs": [
    {
     "data": {
      "text/plain": [
       "   20230101  0000  1000000100  Unnamed: 3    35  0\n",
       "0  20230101     0  1000000200         NaN  36.0  0\n",
       "1  20230101     0  1000000300         NaN  13.0  0\n",
       "2  20230101     0  1000000301         NaN  22.0  0\n",
       "3  20230101     0  1000000302         NaN  21.0  0\n",
       "4  20230101     0  1000000303         NaN   6.0  0"
      ],
      "text/html": [
       "<div>\n",
       "<style scoped>\n",
       "    .dataframe tbody tr th:only-of-type {\n",
       "        vertical-align: middle;\n",
       "    }\n",
       "\n",
       "    .dataframe tbody tr th {\n",
       "        vertical-align: top;\n",
       "    }\n",
       "\n",
       "    .dataframe thead th {\n",
       "        text-align: right;\n",
       "    }\n",
       "</style>\n",
       "<table border=\"1\" class=\"dataframe\">\n",
       "  <thead>\n",
       "    <tr style=\"text-align: right;\">\n",
       "      <th></th>\n",
       "      <th>20230101</th>\n",
       "      <th>0000</th>\n",
       "      <th>1000000100</th>\n",
       "      <th>Unnamed: 3</th>\n",
       "      <th>35</th>\n",
       "      <th>0</th>\n",
       "    </tr>\n",
       "  </thead>\n",
       "  <tbody>\n",
       "    <tr>\n",
       "      <th>0</th>\n",
       "      <td>20230101</td>\n",
       "      <td>0</td>\n",
       "      <td>1000000200</td>\n",
       "      <td>NaN</td>\n",
       "      <td>36.0</td>\n",
       "      <td>0</td>\n",
       "    </tr>\n",
       "    <tr>\n",
       "      <th>1</th>\n",
       "      <td>20230101</td>\n",
       "      <td>0</td>\n",
       "      <td>1000000300</td>\n",
       "      <td>NaN</td>\n",
       "      <td>13.0</td>\n",
       "      <td>0</td>\n",
       "    </tr>\n",
       "    <tr>\n",
       "      <th>2</th>\n",
       "      <td>20230101</td>\n",
       "      <td>0</td>\n",
       "      <td>1000000301</td>\n",
       "      <td>NaN</td>\n",
       "      <td>22.0</td>\n",
       "      <td>0</td>\n",
       "    </tr>\n",
       "    <tr>\n",
       "      <th>3</th>\n",
       "      <td>20230101</td>\n",
       "      <td>0</td>\n",
       "      <td>1000000302</td>\n",
       "      <td>NaN</td>\n",
       "      <td>21.0</td>\n",
       "      <td>0</td>\n",
       "    </tr>\n",
       "    <tr>\n",
       "      <th>4</th>\n",
       "      <td>20230101</td>\n",
       "      <td>0</td>\n",
       "      <td>1000000303</td>\n",
       "      <td>NaN</td>\n",
       "      <td>6.0</td>\n",
       "      <td>0</td>\n",
       "    </tr>\n",
       "  </tbody>\n",
       "</table>\n",
       "</div>"
      ]
     },
     "execution_count": 5,
     "metadata": {},
     "output_type": "execute_result"
    }
   ],
   "execution_count": 5
  },
  {
   "metadata": {
    "ExecuteTime": {
     "end_time": "2024-08-18T06:07:34.852008Z",
     "start_time": "2024-08-18T06:06:29.958836Z"
    }
   },
   "cell_type": "code",
   "source": [
    "for partition in its_c_1_1_dask.to_delayed():\n",
    "    partition_its_c_1_1 = partition.compute()"
   ],
   "id": "d99759b8b3a5a234",
   "outputs": [],
   "execution_count": 6
  },
  {
   "metadata": {
    "ExecuteTime": {
     "end_time": "2024-08-18T06:07:59.814818Z",
     "start_time": "2024-08-18T06:07:59.808752Z"
    }
   },
   "cell_type": "code",
   "source": "partition_its_c_1_1",
   "id": "80bbf5463ac108eb",
   "outputs": [
    {
     "data": {
      "text/plain": [
       "         20230101  0000  1000000100  Unnamed: 3     35  0\n",
       "0        20230101  2345  2510159608         NaN   26.0  0\n",
       "1        20230101  2345  2510159700         NaN   25.5  0\n",
       "2        20230101  2345  2510159800         NaN   21.0  0\n",
       "3        20230101  2345  2510159900         NaN   31.0  0\n",
       "4        20230101  2345  2510159901         NaN   20.5  0\n",
       "...           ...   ...         ...         ...    ... ..\n",
       "1616864  20230101  2355  4180383901         NaN    4.0  0\n",
       "1616865  20230101  2355  4180384001         NaN   97.0  0\n",
       "1616866  20230101  2355  4180384101         NaN   76.0  0\n",
       "1616867  20230101  2355  4180384201         NaN  115.0  0\n",
       "1616868  20230101  2355  4180384301         NaN   79.0  0\n",
       "\n",
       "[1616869 rows x 6 columns]"
      ],
      "text/html": [
       "<div>\n",
       "<style scoped>\n",
       "    .dataframe tbody tr th:only-of-type {\n",
       "        vertical-align: middle;\n",
       "    }\n",
       "\n",
       "    .dataframe tbody tr th {\n",
       "        vertical-align: top;\n",
       "    }\n",
       "\n",
       "    .dataframe thead th {\n",
       "        text-align: right;\n",
       "    }\n",
       "</style>\n",
       "<table border=\"1\" class=\"dataframe\">\n",
       "  <thead>\n",
       "    <tr style=\"text-align: right;\">\n",
       "      <th></th>\n",
       "      <th>20230101</th>\n",
       "      <th>0000</th>\n",
       "      <th>1000000100</th>\n",
       "      <th>Unnamed: 3</th>\n",
       "      <th>35</th>\n",
       "      <th>0</th>\n",
       "    </tr>\n",
       "  </thead>\n",
       "  <tbody>\n",
       "    <tr>\n",
       "      <th>0</th>\n",
       "      <td>20230101</td>\n",
       "      <td>2345</td>\n",
       "      <td>2510159608</td>\n",
       "      <td>NaN</td>\n",
       "      <td>26.0</td>\n",
       "      <td>0</td>\n",
       "    </tr>\n",
       "    <tr>\n",
       "      <th>1</th>\n",
       "      <td>20230101</td>\n",
       "      <td>2345</td>\n",
       "      <td>2510159700</td>\n",
       "      <td>NaN</td>\n",
       "      <td>25.5</td>\n",
       "      <td>0</td>\n",
       "    </tr>\n",
       "    <tr>\n",
       "      <th>2</th>\n",
       "      <td>20230101</td>\n",
       "      <td>2345</td>\n",
       "      <td>2510159800</td>\n",
       "      <td>NaN</td>\n",
       "      <td>21.0</td>\n",
       "      <td>0</td>\n",
       "    </tr>\n",
       "    <tr>\n",
       "      <th>3</th>\n",
       "      <td>20230101</td>\n",
       "      <td>2345</td>\n",
       "      <td>2510159900</td>\n",
       "      <td>NaN</td>\n",
       "      <td>31.0</td>\n",
       "      <td>0</td>\n",
       "    </tr>\n",
       "    <tr>\n",
       "      <th>4</th>\n",
       "      <td>20230101</td>\n",
       "      <td>2345</td>\n",
       "      <td>2510159901</td>\n",
       "      <td>NaN</td>\n",
       "      <td>20.5</td>\n",
       "      <td>0</td>\n",
       "    </tr>\n",
       "    <tr>\n",
       "      <th>...</th>\n",
       "      <td>...</td>\n",
       "      <td>...</td>\n",
       "      <td>...</td>\n",
       "      <td>...</td>\n",
       "      <td>...</td>\n",
       "      <td>...</td>\n",
       "    </tr>\n",
       "    <tr>\n",
       "      <th>1616864</th>\n",
       "      <td>20230101</td>\n",
       "      <td>2355</td>\n",
       "      <td>4180383901</td>\n",
       "      <td>NaN</td>\n",
       "      <td>4.0</td>\n",
       "      <td>0</td>\n",
       "    </tr>\n",
       "    <tr>\n",
       "      <th>1616865</th>\n",
       "      <td>20230101</td>\n",
       "      <td>2355</td>\n",
       "      <td>4180384001</td>\n",
       "      <td>NaN</td>\n",
       "      <td>97.0</td>\n",
       "      <td>0</td>\n",
       "    </tr>\n",
       "    <tr>\n",
       "      <th>1616866</th>\n",
       "      <td>20230101</td>\n",
       "      <td>2355</td>\n",
       "      <td>4180384101</td>\n",
       "      <td>NaN</td>\n",
       "      <td>76.0</td>\n",
       "      <td>0</td>\n",
       "    </tr>\n",
       "    <tr>\n",
       "      <th>1616867</th>\n",
       "      <td>20230101</td>\n",
       "      <td>2355</td>\n",
       "      <td>4180384201</td>\n",
       "      <td>NaN</td>\n",
       "      <td>115.0</td>\n",
       "      <td>0</td>\n",
       "    </tr>\n",
       "    <tr>\n",
       "      <th>1616868</th>\n",
       "      <td>20230101</td>\n",
       "      <td>2355</td>\n",
       "      <td>4180384301</td>\n",
       "      <td>NaN</td>\n",
       "      <td>79.0</td>\n",
       "      <td>0</td>\n",
       "    </tr>\n",
       "  </tbody>\n",
       "</table>\n",
       "<p>1616869 rows × 6 columns</p>\n",
       "</div>"
      ]
     },
     "execution_count": 7,
     "metadata": {},
     "output_type": "execute_result"
    }
   ],
   "execution_count": 7
  },
  {
   "metadata": {
    "ExecuteTime": {
     "end_time": "2024-08-18T06:09:31.648682Z",
     "start_time": "2024-08-18T06:09:31.646727Z"
    }
   },
   "cell_type": "code",
   "source": "partition_its_c_1_1.columns = ['생성일', '생성시분', '링크ID', '도로관리기관', '통행속도', '통행시간']",
   "id": "f737c2bbeaeb91c0",
   "outputs": [],
   "execution_count": 8
  },
  {
   "metadata": {
    "ExecuteTime": {
     "end_time": "2024-08-18T06:09:39.173060Z",
     "start_time": "2024-08-18T06:09:39.167921Z"
    }
   },
   "cell_type": "code",
   "source": "partition_its_c_1_1.tail()",
   "id": "12536216e1fb0fe4",
   "outputs": [
    {
     "data": {
      "text/plain": [
       "              생성일  생성시분        링크ID  도로관리기관   통행속도  통행시간\n",
       "1616864  20230101  2355  4180383901     NaN    4.0     0\n",
       "1616865  20230101  2355  4180384001     NaN   97.0     0\n",
       "1616866  20230101  2355  4180384101     NaN   76.0     0\n",
       "1616867  20230101  2355  4180384201     NaN  115.0     0\n",
       "1616868  20230101  2355  4180384301     NaN   79.0     0"
      ],
      "text/html": [
       "<div>\n",
       "<style scoped>\n",
       "    .dataframe tbody tr th:only-of-type {\n",
       "        vertical-align: middle;\n",
       "    }\n",
       "\n",
       "    .dataframe tbody tr th {\n",
       "        vertical-align: top;\n",
       "    }\n",
       "\n",
       "    .dataframe thead th {\n",
       "        text-align: right;\n",
       "    }\n",
       "</style>\n",
       "<table border=\"1\" class=\"dataframe\">\n",
       "  <thead>\n",
       "    <tr style=\"text-align: right;\">\n",
       "      <th></th>\n",
       "      <th>생성일</th>\n",
       "      <th>생성시분</th>\n",
       "      <th>링크ID</th>\n",
       "      <th>도로관리기관</th>\n",
       "      <th>통행속도</th>\n",
       "      <th>통행시간</th>\n",
       "    </tr>\n",
       "  </thead>\n",
       "  <tbody>\n",
       "    <tr>\n",
       "      <th>1616864</th>\n",
       "      <td>20230101</td>\n",
       "      <td>2355</td>\n",
       "      <td>4180383901</td>\n",
       "      <td>NaN</td>\n",
       "      <td>4.0</td>\n",
       "      <td>0</td>\n",
       "    </tr>\n",
       "    <tr>\n",
       "      <th>1616865</th>\n",
       "      <td>20230101</td>\n",
       "      <td>2355</td>\n",
       "      <td>4180384001</td>\n",
       "      <td>NaN</td>\n",
       "      <td>97.0</td>\n",
       "      <td>0</td>\n",
       "    </tr>\n",
       "    <tr>\n",
       "      <th>1616866</th>\n",
       "      <td>20230101</td>\n",
       "      <td>2355</td>\n",
       "      <td>4180384101</td>\n",
       "      <td>NaN</td>\n",
       "      <td>76.0</td>\n",
       "      <td>0</td>\n",
       "    </tr>\n",
       "    <tr>\n",
       "      <th>1616867</th>\n",
       "      <td>20230101</td>\n",
       "      <td>2355</td>\n",
       "      <td>4180384201</td>\n",
       "      <td>NaN</td>\n",
       "      <td>115.0</td>\n",
       "      <td>0</td>\n",
       "    </tr>\n",
       "    <tr>\n",
       "      <th>1616868</th>\n",
       "      <td>20230101</td>\n",
       "      <td>2355</td>\n",
       "      <td>4180384301</td>\n",
       "      <td>NaN</td>\n",
       "      <td>79.0</td>\n",
       "      <td>0</td>\n",
       "    </tr>\n",
       "  </tbody>\n",
       "</table>\n",
       "</div>"
      ]
     },
     "execution_count": 9,
     "metadata": {},
     "output_type": "execute_result"
    }
   ],
   "execution_count": 9
  },
  {
   "metadata": {
    "ExecuteTime": {
     "end_time": "2024-08-18T07:15:44.777745Z",
     "start_time": "2024-08-18T07:15:44.732782Z"
    }
   },
   "cell_type": "code",
   "source": "null_data = partition_its_c_1_1.isnull().sum()",
   "id": "5e190639aac665dd",
   "outputs": [],
   "execution_count": 11
  },
  {
   "metadata": {
    "ExecuteTime": {
     "end_time": "2024-08-18T07:16:34.386245Z",
     "start_time": "2024-08-18T07:16:34.382270Z"
    }
   },
   "cell_type": "code",
   "source": [
    "# csv로 저장\n",
    "null_data.to_csv('2023_01_소통_null.csv', index=False)"
   ],
   "id": "fe9e2581cb2f337e",
   "outputs": [],
   "execution_count": 14
  },
  {
   "metadata": {},
   "cell_type": "code",
   "outputs": [],
   "execution_count": null,
   "source": "",
   "id": "1e8cfcf0e44df4ba"
  }
 ],
 "metadata": {
  "kernelspec": {
   "display_name": "Python 3",
   "language": "python",
   "name": "python3"
  },
  "language_info": {
   "codemirror_mode": {
    "name": "ipython",
    "version": 2
   },
   "file_extension": ".py",
   "mimetype": "text/x-python",
   "name": "python",
   "nbconvert_exporter": "python",
   "pygments_lexer": "ipython2",
   "version": "2.7.6"
  }
 },
 "nbformat": 4,
 "nbformat_minor": 5
}
