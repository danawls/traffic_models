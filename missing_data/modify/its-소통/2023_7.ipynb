{
 "cells": [
  {
   "cell_type": "code",
   "id": "initial_id",
   "metadata": {
    "collapsed": true,
    "ExecuteTime": {
     "end_time": "2024-08-21T15:05:46.861454Z",
     "start_time": "2024-08-21T15:05:46.026038Z"
    }
   },
   "source": [
    "import pandas as pd\n",
    "import dask.dataframe as ddf"
   ],
   "outputs": [],
   "execution_count": 1
  },
  {
   "metadata": {
    "ExecuteTime": {
     "end_time": "2024-08-20T09:55:22.625573Z",
     "start_time": "2024-08-20T07:38:38.661238Z"
    }
   },
   "cell_type": "code",
   "source": [
    "for i in range(31):\n",
    "    # Dask DataFrame을 읽어옵니다.\n",
    "    df = ddf.read_csv(f'/Volumes/Expansion/traffic-prediction/data/its-소통/7/its_c_7_{i + 1}.csv', dtype='object')\n",
    "\n",
    "    # 열 이름 지정\n",
    "    df.columns = ['생성일', '생성시분', '링크ID', '도로관리기관', '통행속도', '통행시간']\n",
    "    \n",
    "    # '도로관리기관' 열이 존재하는지 확인 후 드롭\n",
    "    if '도로관리기관' in df.columns:\n",
    "        df = df.drop('도로관리기관', axis=1)\n",
    "    \n",
    "    # 데이터 타입 변경\n",
    "    df = df.astype({\n",
    "        '생성일': 'int64',\n",
    "        '생성시분': 'int64',\n",
    "        '링크ID': 'object',\n",
    "        '통행속도': 'float64',\n",
    "        '통행시간': 'int64'\n",
    "    })\n",
    "    \n",
    "    # CSV로 저장\n",
    "    output_path = f'/Volumes/Expansion/traffic-prediction/data/its-소통/7/its_c_7_{i + 1}_m1.csv'\n",
    "    df.to_csv(output_path, index=False, single_file=True)\n",
    "    \n",
    "    # 메모리에서 Dask DataFrame 해제\n",
    "    del df"
   ],
   "id": "e2f029025bf89fe4",
   "outputs": [],
   "execution_count": 2
  },
  {
   "metadata": {
    "ExecuteTime": {
     "end_time": "2024-08-20T13:57:38.946329Z",
     "start_time": "2024-08-20T13:57:36.617592Z"
    }
   },
   "cell_type": "code",
   "source": [
    "import os\n",
    "for i in range(31):\n",
    "    path = f'/Volumes/Expansion/traffic-prediction/data/its-소통/7/its_c_7_{i + 1}.csv'\n",
    "    if os.path.exists(path):\n",
    "        os.remove(path)"
   ],
   "id": "a4af2f25ff578335",
   "outputs": [],
   "execution_count": 3
  },
  {
   "metadata": {
    "ExecuteTime": {
     "end_time": "2024-08-21T15:08:02.128305Z",
     "start_time": "2024-08-21T15:07:30.713916Z"
    }
   },
   "cell_type": "code",
   "source": "df = pd.read_csv('/Volumes/Expansion/traffic-prediction/data/its-소통/7/its_c_7_1_m1.csv')",
   "id": "248b4e9bd65c538",
   "outputs": [
    {
     "name": "stderr",
     "output_type": "stream",
     "text": [
      "/var/folders/dh/gb4wzs5j5xn279kr5kp1rdxw0000gn/T/ipykernel_2114/2052280631.py:1: DtypeWarning: Columns (2) have mixed types. Specify dtype option on import or set low_memory=False.\n",
      "  df = pd.read_csv('/Volumes/Expansion/traffic-prediction/data/its-소통/7/its_c_7_1_m1.csv')\n"
     ]
    }
   ],
   "execution_count": 4
  },
  {
   "metadata": {
    "ExecuteTime": {
     "end_time": "2024-08-21T15:08:27.873539Z",
     "start_time": "2024-08-21T15:08:27.866757Z"
    }
   },
   "cell_type": "code",
   "source": "df",
   "id": "aed2fee8074d522",
   "outputs": [
    {
     "data": {
      "text/plain": [
       "                생성일  생성시분        링크ID  통행속도  통행시간\n",
       "0          20230701     0  1000000200  33.0     0\n",
       "1          20230701     0  1000000300  41.0     0\n",
       "2          20230701     0  1000000301  16.0     0\n",
       "3          20230701     0  1000000302  13.0     0\n",
       "4          20230701     0  1000000303   9.0     0\n",
       "...             ...   ...         ...   ...   ...\n",
       "129305123  20230701  2355  4180383901  48.0     0\n",
       "129305124  20230701  2355  4180384001  96.0     0\n",
       "129305125  20230701  2355  4180384101  71.0     0\n",
       "129305126  20230701  2355  4180384201  74.5     0\n",
       "129305127  20230701  2355  4180384301  65.5     0\n",
       "\n",
       "[129305128 rows x 5 columns]"
      ],
      "text/html": [
       "<div>\n",
       "<style scoped>\n",
       "    .dataframe tbody tr th:only-of-type {\n",
       "        vertical-align: middle;\n",
       "    }\n",
       "\n",
       "    .dataframe tbody tr th {\n",
       "        vertical-align: top;\n",
       "    }\n",
       "\n",
       "    .dataframe thead th {\n",
       "        text-align: right;\n",
       "    }\n",
       "</style>\n",
       "<table border=\"1\" class=\"dataframe\">\n",
       "  <thead>\n",
       "    <tr style=\"text-align: right;\">\n",
       "      <th></th>\n",
       "      <th>생성일</th>\n",
       "      <th>생성시분</th>\n",
       "      <th>링크ID</th>\n",
       "      <th>통행속도</th>\n",
       "      <th>통행시간</th>\n",
       "    </tr>\n",
       "  </thead>\n",
       "  <tbody>\n",
       "    <tr>\n",
       "      <th>0</th>\n",
       "      <td>20230701</td>\n",
       "      <td>0</td>\n",
       "      <td>1000000200</td>\n",
       "      <td>33.0</td>\n",
       "      <td>0</td>\n",
       "    </tr>\n",
       "    <tr>\n",
       "      <th>1</th>\n",
       "      <td>20230701</td>\n",
       "      <td>0</td>\n",
       "      <td>1000000300</td>\n",
       "      <td>41.0</td>\n",
       "      <td>0</td>\n",
       "    </tr>\n",
       "    <tr>\n",
       "      <th>2</th>\n",
       "      <td>20230701</td>\n",
       "      <td>0</td>\n",
       "      <td>1000000301</td>\n",
       "      <td>16.0</td>\n",
       "      <td>0</td>\n",
       "    </tr>\n",
       "    <tr>\n",
       "      <th>3</th>\n",
       "      <td>20230701</td>\n",
       "      <td>0</td>\n",
       "      <td>1000000302</td>\n",
       "      <td>13.0</td>\n",
       "      <td>0</td>\n",
       "    </tr>\n",
       "    <tr>\n",
       "      <th>4</th>\n",
       "      <td>20230701</td>\n",
       "      <td>0</td>\n",
       "      <td>1000000303</td>\n",
       "      <td>9.0</td>\n",
       "      <td>0</td>\n",
       "    </tr>\n",
       "    <tr>\n",
       "      <th>...</th>\n",
       "      <td>...</td>\n",
       "      <td>...</td>\n",
       "      <td>...</td>\n",
       "      <td>...</td>\n",
       "      <td>...</td>\n",
       "    </tr>\n",
       "    <tr>\n",
       "      <th>129305123</th>\n",
       "      <td>20230701</td>\n",
       "      <td>2355</td>\n",
       "      <td>4180383901</td>\n",
       "      <td>48.0</td>\n",
       "      <td>0</td>\n",
       "    </tr>\n",
       "    <tr>\n",
       "      <th>129305124</th>\n",
       "      <td>20230701</td>\n",
       "      <td>2355</td>\n",
       "      <td>4180384001</td>\n",
       "      <td>96.0</td>\n",
       "      <td>0</td>\n",
       "    </tr>\n",
       "    <tr>\n",
       "      <th>129305125</th>\n",
       "      <td>20230701</td>\n",
       "      <td>2355</td>\n",
       "      <td>4180384101</td>\n",
       "      <td>71.0</td>\n",
       "      <td>0</td>\n",
       "    </tr>\n",
       "    <tr>\n",
       "      <th>129305126</th>\n",
       "      <td>20230701</td>\n",
       "      <td>2355</td>\n",
       "      <td>4180384201</td>\n",
       "      <td>74.5</td>\n",
       "      <td>0</td>\n",
       "    </tr>\n",
       "    <tr>\n",
       "      <th>129305127</th>\n",
       "      <td>20230701</td>\n",
       "      <td>2355</td>\n",
       "      <td>4180384301</td>\n",
       "      <td>65.5</td>\n",
       "      <td>0</td>\n",
       "    </tr>\n",
       "  </tbody>\n",
       "</table>\n",
       "<p>129305128 rows × 5 columns</p>\n",
       "</div>"
      ]
     },
     "execution_count": 5,
     "metadata": {},
     "output_type": "execute_result"
    }
   ],
   "execution_count": 5
  },
  {
   "metadata": {
    "ExecuteTime": {
     "end_time": "2024-08-21T15:09:11.811617Z",
     "start_time": "2024-08-21T15:09:09.625533Z"
    }
   },
   "cell_type": "code",
   "source": "df.isnull().sum()",
   "id": "da0f802395f1cde0",
   "outputs": [
    {
     "data": {
      "text/plain": [
       "생성일     0\n",
       "생성시분    0\n",
       "링크ID    0\n",
       "통행속도    0\n",
       "통행시간    0\n",
       "dtype: int64"
      ]
     },
     "execution_count": 6,
     "metadata": {},
     "output_type": "execute_result"
    }
   ],
   "execution_count": 6
  },
  {
   "metadata": {},
   "cell_type": "code",
   "outputs": [],
   "execution_count": null,
   "source": "",
   "id": "1c356b227fbe00a2"
  }
 ],
 "metadata": {
  "kernelspec": {
   "display_name": "Python 3",
   "language": "python",
   "name": "python3"
  },
  "language_info": {
   "codemirror_mode": {
    "name": "ipython",
    "version": 2
   },
   "file_extension": ".py",
   "mimetype": "text/x-python",
   "name": "python",
   "nbconvert_exporter": "python",
   "pygments_lexer": "ipython2",
   "version": "2.7.6"
  }
 },
 "nbformat": 4,
 "nbformat_minor": 5
}
