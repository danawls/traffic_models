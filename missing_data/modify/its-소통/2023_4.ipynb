{
 "cells": [
  {
   "cell_type": "code",
   "id": "initial_id",
   "metadata": {
    "collapsed": true,
    "ExecuteTime": {
     "end_time": "2024-08-19T14:56:40.713281Z",
     "start_time": "2024-08-19T14:56:40.710189Z"
    }
   },
   "source": [
    "import pandas as pd\n",
    "import numpy as np\n",
    "import dask.dataframe as ddf\n",
    "import os\n",
    "import dask"
   ],
   "outputs": [],
   "execution_count": 2
  },
  {
   "metadata": {
    "ExecuteTime": {
     "end_time": "2024-08-18T16:02:36.989917Z",
     "start_time": "2024-08-18T15:36:34.927250Z"
    }
   },
   "cell_type": "code",
   "source": [
    "for i in range(7):\n",
    "    # Dask DataFrame을 읽어옵니다.\n",
    "    df = ddf.read_csv(f'/Volumes/Expansion/traffic-prediction/data/its-소통/4/its_c_4_{i + 23}.csv', dtype='object')\n",
    "\n",
    "    # 열 이름 지정\n",
    "    df.columns = ['생성일', '생성시분', '링크ID', '도로관리기관', '통행속도', '통행시간']\n",
    "    \n",
    "    # '도로관리기관' 열이 존재하는지 확인 후 드롭\n",
    "    if '도로관리기관' in df.columns:\n",
    "        df = df.drop('도로관리기관', axis=1)\n",
    "    \n",
    "    # 데이터 타입 변경\n",
    "    df = df.astype({\n",
    "        '생성일': 'int64',\n",
    "        '생성시분': 'int64',\n",
    "        '링크ID': 'object',\n",
    "        '통행속도': 'float64',\n",
    "        '통행시간': 'int64'\n",
    "    })\n",
    "    \n",
    "    # CSV로 저장\n",
    "    output_path = f'/Volumes/Expansion/traffic-prediction/data/its-소통/4/its_c_4_{i + 23}_m1.csv'\n",
    "    df.to_csv(output_path, index=False, single_file=True)\n",
    "        \n",
    "    # 메모리에서 Dask DataFrame 해제\n",
    "    del df\n",
    "        "
   ],
   "id": "4bd33c87ed8f7fd6",
   "outputs": [],
   "execution_count": 4
  },
  {
   "metadata": {
    "ExecuteTime": {
     "end_time": "2024-08-19T14:56:44.010639Z",
     "start_time": "2024-08-19T14:56:42.564909Z"
    }
   },
   "cell_type": "code",
   "source": [
    "for i in range(29):\n",
    "    path = f'/Volumes/Expansion/traffic-prediction/data/its-소통/4/its_c_4_{i + 1}.csv'\n",
    "    if os.path.exists(path):\n",
    "        os.remove(path)"
   ],
   "id": "b782936ff220aafa",
   "outputs": [],
   "execution_count": 3
  },
  {
   "metadata": {},
   "cell_type": "code",
   "outputs": [],
   "execution_count": null,
   "source": "",
   "id": "18b429c076b85365"
  }
 ],
 "metadata": {
  "kernelspec": {
   "display_name": "Python 3",
   "language": "python",
   "name": "python3"
  },
  "language_info": {
   "codemirror_mode": {
    "name": "ipython",
    "version": 2
   },
   "file_extension": ".py",
   "mimetype": "text/x-python",
   "name": "python",
   "nbconvert_exporter": "python",
   "pygments_lexer": "ipython2",
   "version": "2.7.6"
  }
 },
 "nbformat": 4,
 "nbformat_minor": 5
}
