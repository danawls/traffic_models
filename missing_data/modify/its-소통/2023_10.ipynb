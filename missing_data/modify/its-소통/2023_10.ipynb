{
 "cells": [
  {
   "cell_type": "code",
   "id": "initial_id",
   "metadata": {
    "collapsed": true,
    "ExecuteTime": {
     "end_time": "2024-08-20T13:58:14.951879Z",
     "start_time": "2024-08-20T13:58:14.120335Z"
    }
   },
   "source": [
    "import pandas as pd\n",
    "import dask.dataframe as ddf"
   ],
   "outputs": [],
   "execution_count": 1
  },
  {
   "metadata": {
    "ExecuteTime": {
     "end_time": "2024-08-20T15:49:02.619797Z",
     "start_time": "2024-08-20T13:58:39.457775Z"
    }
   },
   "cell_type": "code",
   "source": [
    "for i in range(30):\n",
    "    # Dask DataFrame을 읽어옵니다.\n",
    "    df = ddf.read_csv(f'/Volumes/Expansion/traffic-prediction/data/its-소통/10/its_c_10_{i + 1}.csv', dtype='object')\n",
    "\n",
    "    # 열 이름 지정\n",
    "    df.columns = ['생성일', '생성시분', '링크ID', '도로관리기관', '통행속도', '통행시간']\n",
    "    \n",
    "    # '도로관리기관' 열이 존재하는지 확인 후 드롭\n",
    "    if '도로관리기관' in df.columns:\n",
    "        df = df.drop('도로관리기관', axis=1)\n",
    "    \n",
    "    # 데이터 타입 변경\n",
    "    df = df.astype({\n",
    "        '생성일': 'int64',\n",
    "        '생성시분': 'int64',\n",
    "        '링크ID': 'object',\n",
    "        '통행속도': 'float64',\n",
    "        '통행시간': 'int64'\n",
    "    })\n",
    "    \n",
    "    # CSV로 저장\n",
    "    output_path = f'/Volumes/Expansion/traffic-prediction/data/its-소통/10/its_c_10_{i + 1}_m1.csv'\n",
    "    df.to_csv(output_path, index=False, single_file=True)\n",
    "    \n",
    "    # 메모리에서 Dask DataFrame 해제\n",
    "    del df"
   ],
   "id": "2f585469e3c0ed1d",
   "outputs": [],
   "execution_count": 2
  },
  {
   "metadata": {
    "ExecuteTime": {
     "end_time": "2024-08-20T16:02:04.222589Z",
     "start_time": "2024-08-20T16:02:01.888603Z"
    }
   },
   "cell_type": "code",
   "source": [
    "import os\n",
    "for i in range(30):\n",
    "    path = f'/Volumes/Expansion/traffic-prediction/data/its-소통/10/its_c_10_{i + 1}.csv'\n",
    "    if os.path.exists(path):\n",
    "        os.remove(path)"
   ],
   "id": "71ce984d25e9f76b",
   "outputs": [],
   "execution_count": 3
  },
  {
   "metadata": {
    "ExecuteTime": {
     "end_time": "2024-08-20T16:04:23.762691Z",
     "start_time": "2024-08-20T16:04:23.758030Z"
    }
   },
   "cell_type": "code",
   "source": "float('3')",
   "id": "c3de0465b1b898e1",
   "outputs": [
    {
     "data": {
      "text/plain": [
       "3.0"
      ]
     },
     "execution_count": 4,
     "metadata": {},
     "output_type": "execute_result"
    }
   ],
   "execution_count": 4
  },
  {
   "metadata": {
    "ExecuteTime": {
     "end_time": "2024-08-20T16:04:27.636394Z",
     "start_time": "2024-08-20T16:04:27.406341Z"
    }
   },
   "cell_type": "code",
   "source": "float('e')",
   "id": "de05b526b3a0ea0c",
   "outputs": [
    {
     "ename": "ValueError",
     "evalue": "could not convert string to float: 'e'",
     "output_type": "error",
     "traceback": [
      "\u001B[0;31m---------------------------------------------------------------------------\u001B[0m",
      "\u001B[0;31mValueError\u001B[0m                                Traceback (most recent call last)",
      "Cell \u001B[0;32mIn[5], line 1\u001B[0m\n\u001B[0;32m----> 1\u001B[0m \u001B[38;5;28mfloat\u001B[39m(\u001B[38;5;124m'\u001B[39m\u001B[38;5;124me\u001B[39m\u001B[38;5;124m'\u001B[39m)\n",
      "\u001B[0;31mValueError\u001B[0m: could not convert string to float: 'e'"
     ]
    }
   ],
   "execution_count": 5
  },
  {
   "metadata": {},
   "cell_type": "code",
   "outputs": [],
   "execution_count": null,
   "source": "",
   "id": "d61cb006f6f33c0a"
  }
 ],
 "metadata": {
  "kernelspec": {
   "display_name": "Python 3",
   "language": "python",
   "name": "python3"
  },
  "language_info": {
   "codemirror_mode": {
    "name": "ipython",
    "version": 2
   },
   "file_extension": ".py",
   "mimetype": "text/x-python",
   "name": "python",
   "nbconvert_exporter": "python",
   "pygments_lexer": "ipython2",
   "version": "2.7.6"
  }
 },
 "nbformat": 4,
 "nbformat_minor": 5
}
