{
 "cells": [
  {
   "cell_type": "code",
   "id": "initial_id",
   "metadata": {
    "collapsed": true,
    "ExecuteTime": {
     "end_time": "2024-08-21T15:37:21.776875Z",
     "start_time": "2024-08-21T15:37:21.522095Z"
    }
   },
   "source": [
    "import pandas as pd\n",
    "import os"
   ],
   "outputs": [],
   "execution_count": 1
  },
  {
   "metadata": {
    "ExecuteTime": {
     "end_time": "2024-08-21T15:38:36.592667Z",
     "start_time": "2024-08-21T15:38:35.834207Z"
    }
   },
   "cell_type": "code",
   "source": [
    "for i in range(30):\n",
    "    path = f'/Volumes/Expansion/traffic-prediction/data/its-돌발/4/its_e_4_{i + 1}.csv'\n",
    "    \n",
    "    df = pd.read_csv(path, on_bad_lines='skip')\n",
    "    \n",
    "    \n",
    "    df.dropna(axis=0, inplace=True)\n",
    "    \n",
    "    save_path = f'/Volumes/Expansion/traffic-prediction/data/its-돌발/4/its_e_4_{i + 1}_m1.csv'\n",
    "    \n",
    "    df.to_csv(save_path, index=False)\n",
    "    \n",
    "    del df"
   ],
   "id": "cb64905fe8b4716f",
   "outputs": [],
   "execution_count": 2
  },
  {
   "metadata": {},
   "cell_type": "code",
   "outputs": [],
   "execution_count": null,
   "source": "",
   "id": "5321d16a4ed8750"
  }
 ],
 "metadata": {
  "kernelspec": {
   "display_name": "Python 3",
   "language": "python",
   "name": "python3"
  },
  "language_info": {
   "codemirror_mode": {
    "name": "ipython",
    "version": 2
   },
   "file_extension": ".py",
   "mimetype": "text/x-python",
   "name": "python",
   "nbconvert_exporter": "python",
   "pygments_lexer": "ipython2",
   "version": "2.7.6"
  }
 },
 "nbformat": 4,
 "nbformat_minor": 5
}
