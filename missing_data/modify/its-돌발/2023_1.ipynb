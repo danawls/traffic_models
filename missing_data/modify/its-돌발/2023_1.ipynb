{
 "cells": [
  {
   "cell_type": "code",
   "id": "initial_id",
   "metadata": {
    "collapsed": true,
    "ExecuteTime": {
     "end_time": "2024-08-21T15:36:25.562614Z",
     "start_time": "2024-08-21T15:36:25.559791Z"
    }
   },
   "source": [
    "import pandas as pd\n",
    "import os"
   ],
   "outputs": [],
   "execution_count": 18
  },
  {
   "metadata": {
    "ExecuteTime": {
     "end_time": "2024-08-21T15:36:00.931286Z",
     "start_time": "2024-08-21T15:36:00.251067Z"
    }
   },
   "cell_type": "code",
   "source": [
    "for i in range(31):\n",
    "    path = f'/Volumes/Expansion/traffic-prediction/data/its-돌발/1/its_e_1_{i + 1}.csv'\n",
    "    \n",
    "    df = pd.read_csv(path, on_bad_lines='skip')\n",
    "    \n",
    "    df.dropna(axis=0, inplace=True)\n",
    "    \n",
    "    save_path = f'/Volumes/Expansion/traffic-prediction/data/its-돌발/1/its_e_1_{i + 1}_m1.csv'\n",
    "    \n",
    "    df.to_csv(save_path, index=False)\n",
    "    \n",
    "    del df"
   ],
   "id": "db5107967a444455",
   "outputs": [],
   "execution_count": 17
  },
  {
   "metadata": {
    "ExecuteTime": {
     "end_time": "2024-08-21T15:36:35.982080Z",
     "start_time": "2024-08-21T15:36:35.967213Z"
    }
   },
   "cell_type": "code",
   "source": "df",
   "id": "f3523649ab9d90e4",
   "outputs": [
    {
     "ename": "NameError",
     "evalue": "name 'df' is not defined",
     "output_type": "error",
     "traceback": [
      "\u001B[0;31m---------------------------------------------------------------------------\u001B[0m",
      "\u001B[0;31mNameError\u001B[0m                                 Traceback (most recent call last)",
      "Cell \u001B[0;32mIn[19], line 1\u001B[0m\n\u001B[0;32m----> 1\u001B[0m df\n",
      "\u001B[0;31mNameError\u001B[0m: name 'df' is not defined"
     ]
    }
   ],
   "execution_count": 19
  },
  {
   "metadata": {},
   "cell_type": "code",
   "outputs": [],
   "execution_count": null,
   "source": "",
   "id": "1c2ffbd576692451"
  }
 ],
 "metadata": {
  "kernelspec": {
   "display_name": "Python 3",
   "language": "python",
   "name": "python3"
  },
  "language_info": {
   "codemirror_mode": {
    "name": "ipython",
    "version": 2
   },
   "file_extension": ".py",
   "mimetype": "text/x-python",
   "name": "python",
   "nbconvert_exporter": "python",
   "pygments_lexer": "ipython2",
   "version": "2.7.6"
  }
 },
 "nbformat": 4,
 "nbformat_minor": 5
}
