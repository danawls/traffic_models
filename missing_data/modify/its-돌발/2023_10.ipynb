{
 "cells": [
  {
   "metadata": {
    "ExecuteTime": {
     "end_time": "2024-08-21T15:39:46.213340Z",
     "start_time": "2024-08-21T15:39:45.952718Z"
    }
   },
   "cell_type": "code",
   "source": [
    "import pandas as pd\n",
    "import os"
   ],
   "id": "7943949e4407573e",
   "outputs": [],
   "execution_count": 1
  },
  {
   "metadata": {
    "ExecuteTime": {
     "end_time": "2024-08-21T15:40:01.570222Z",
     "start_time": "2024-08-21T15:40:00.988617Z"
    }
   },
   "cell_type": "code",
   "source": [
    "for i in range(31):\n",
    "    path = f'/Volumes/Expansion/traffic-prediction/data/its-돌발/10/its_e_10_{i + 1}.csv'\n",
    "    \n",
    "    df = pd.read_csv(path, on_bad_lines='skip')\n",
    "    \n",
    "    \n",
    "    df.dropna(axis=0, inplace=True)\n",
    "    \n",
    "    save_path = f'/Volumes/Expansion/traffic-prediction/data/its-돌발/10/its_e_10_{i + 1}_m1.csv'\n",
    "    \n",
    "    df.to_csv(save_path, index=False)\n",
    "    \n",
    "    del df"
   ],
   "id": "1a87a4b655a387fd",
   "outputs": [],
   "execution_count": 2
  },
  {
   "metadata": {},
   "cell_type": "code",
   "outputs": [],
   "execution_count": null,
   "source": "",
   "id": "78749c17da478f2c"
  }
 ],
 "metadata": {
  "kernelspec": {
   "display_name": "Python 3",
   "language": "python",
   "name": "python3"
  },
  "language_info": {
   "codemirror_mode": {
    "name": "ipython",
    "version": 2
   },
   "file_extension": ".py",
   "mimetype": "text/x-python",
   "name": "python",
   "nbconvert_exporter": "python",
   "pygments_lexer": "ipython2",
   "version": "2.7.6"
  }
 },
 "nbformat": 4,
 "nbformat_minor": 5
}
