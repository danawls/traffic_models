{
 "cells": [
  {
   "cell_type": "code",
   "id": "initial_id",
   "metadata": {
    "collapsed": true,
    "ExecuteTime": {
     "end_time": "2024-08-24T14:49:16.884330Z",
     "start_time": "2024-08-24T14:49:16.044202Z"
    }
   },
   "source": [
    "import pandas as pd\n",
    "from sklearn.impute import KNNImputer"
   ],
   "outputs": [],
   "execution_count": 1
  },
  {
   "metadata": {
    "ExecuteTime": {
     "end_time": "2024-08-24T14:50:22.722244Z",
     "start_time": "2024-08-24T14:50:22.175766Z"
    }
   },
   "cell_type": "code",
   "source": "df = pd.read_csv('/Volumes/Expansion/traffic-prediction/data/기상청-방재/weather_10.csv', encoding='CP949')",
   "id": "84a6b3e1ca46eeb0",
   "outputs": [],
   "execution_count": 2
  },
  {
   "metadata": {
    "ExecuteTime": {
     "end_time": "2024-08-24T15:25:33.711214Z",
     "start_time": "2024-08-24T14:51:13.199905Z"
    }
   },
   "cell_type": "code",
   "source": [
    "path = '/Volumes/Expansion/traffic-prediction/data/기상청-방재/weather_10.csv'\n",
    "df = pd.read_csv(path, encoding='CP949')\n",
    "# 숫자형 열만 선택 (열 이름이 정확한지 확인)\n",
    "numeric_columns = ['기온(°C)', '풍향(deg)', '풍속(m/s)', '강수량(mm)', '현지기압(hPa)', '해면기압(hPa)', '습도(%)']\n",
    "\n",
    "# KNN Imputer 생성 (k=2로 설정)\n",
    "imputer = KNNImputer(n_neighbors=3)\n",
    "\n",
    "# 결측치 대체 수행\n",
    "df_imputed = imputer.fit_transform(df.loc[:, numeric_columns])\n",
    "\n",
    "# 대체된 값을 DataFrame으로 변환\n",
    "df_imputed = pd.DataFrame(df_imputed, columns=numeric_columns)\n",
    "\n",
    "# 원본 데이터프레임에 대체된 열을 다시 삽입\n",
    "df[numeric_columns] = df_imputed\n",
    "\n",
    "df.to_csv('/Volumes/Expansion/traffic-prediction/data/기상청-방재/weather_10_m1.csv', index=False)\n",
    "del df"
   ],
   "id": "88fb7aee38f1abc",
   "outputs": [],
   "execution_count": 3
  },
  {
   "metadata": {},
   "cell_type": "code",
   "outputs": [],
   "execution_count": null,
   "source": "",
   "id": "1cbb13f9f71709f5"
  }
 ],
 "metadata": {
  "kernelspec": {
   "display_name": "Python 3",
   "language": "python",
   "name": "python3"
  },
  "language_info": {
   "codemirror_mode": {
    "name": "ipython",
    "version": 2
   },
   "file_extension": ".py",
   "mimetype": "text/x-python",
   "name": "python",
   "nbconvert_exporter": "python",
   "pygments_lexer": "ipython2",
   "version": "2.7.6"
  }
 },
 "nbformat": 4,
 "nbformat_minor": 5
}
